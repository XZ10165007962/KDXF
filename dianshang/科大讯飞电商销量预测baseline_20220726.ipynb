{
 "cells": [
  {
   "cell_type": "code",
   "execution_count": 1,
   "id": "7f7efab3",
   "metadata": {
    "ExecuteTime": {
     "end_time": "2022-07-25T18:58:16.314056Z",
     "start_time": "2022-07-25T18:58:15.436315Z"
    }
   },
   "outputs": [],
   "source": [
    "import matplotlib.pyplot as plt\n",
    "import pandas as pd\n",
    "import numpy as np\n",
    "import lightgbm as lgb\n",
    "import warnings\n",
    "import math\n",
    "import glob\n",
    "import datetime\n",
    "warnings.filterwarnings('ignore')\n",
    "pd.set_option('display.max_columns',None)"
   ]
  },
  {
   "cell_type": "code",
   "execution_count": 2,
   "id": "bd05f11b",
   "metadata": {
    "ExecuteTime": {
     "end_time": "2022-07-25T19:00:02.617749Z",
     "start_time": "2022-07-25T19:00:02.605549Z"
    }
   },
   "outputs": [],
   "source": [
    "#数据预处理\n",
    "def prepare(df):\n",
    "\t\n",
    "\t# 标签平滑\n",
    "\tdf['salesVolume'] = list(map(lambda x : math.log(x+1,2), df['总销量']))\n",
    "\t\n",
    "\tdf['date'] = pd.to_datetime(df['时间'])\n",
    "\t\n",
    "\tdata = df[['商品id','date','salesVolume']]\n",
    "\tdata['time_index'] = np.arange(1, data.shape[0]+1)\n",
    "\t\n",
    "\t#增加7行\n",
    "\td_7 = pd.DataFrame({'商品id':[data['商品id'][0]]*7,\n",
    "\t\t\t\t'date':[data['date'][data.shape[0]-1]+datetime.timedelta(days=x) for x in range(1,8)],\n",
    "\t\t\t\t'salesVolume':np.zeros(7),\n",
    "\t\t\t\t'time_index':np.arange(174,181)})\n",
    "\tdata = pd.concat([data,d_7],axis=0)\n",
    "\t\n",
    "\treturn data\n",
    "\n",
    "\n",
    "def get_feature(df, day_idx, rec):\n",
    "\t\n",
    "\tdata = df.copy()\n",
    "\t\n",
    "\t# 倒数n日的销量\n",
    "\tfor n in range(1,15):\n",
    "\t\tif rec == 1:#递归预测\n",
    "\t\t\tdata[f'last_{n}_sale'] = data['salesVolume'].shift(n)\n",
    "\t\telse:#直接预测\n",
    "\t\t\tdata[f'last_{n}_sale'] = data['salesVolume'].shift(n+(day_idx-173-1))\n",
    "\t\n",
    "\t# 强相关特征\n",
    "\t# 2日均值，3日均值，7日均值，14日均值，30日均值\n",
    "\tdata['1_2_mean'] = data.loc[:,'last_1_sale':'last_2_sale'].mean(1)\n",
    "\tdata['1_3_mean'] = data.loc[:,'last_1_sale':'last_3_sale'].mean(1)\n",
    "\tdata['1_7_mean'] = data.loc[:,'last_1_sale':'last_7_sale'].mean(1)\n",
    "\tdata['1_14_mean'] = data.loc[:,'last_1_sale':'last_14_sale'].mean(1)\n",
    "\tdata['4_6_mean'] = data.loc[:,'last_4_sale':'last_6_sale'].mean(1)\n",
    "\tdata['8_14_mean'] = data.loc[:,'last_8_sale':'last_14_sale'].mean(1)\n",
    "\t#其他特征，自行编写\n",
    "\t\n",
    "\t\n",
    "\t# 趋势特征\n",
    "\tdata['1_2_diff'] = data['last_1_sale'] - data['last_2_sale']\n",
    "\tdata['1_3_diff'] = data['last_1_sale'] - data['last_3_sale']\n",
    "\tdata['1_4_diff'] = data['last_1_sale'] - data['last_4_sale']\n",
    "\tdata['1_8_diff'] = data['last_1_sale'] - data['last_8_sale']\n",
    "\t\n",
    "\t#前1天至前3天的均值相对于前4天至前6天的均值\n",
    "\tdata['1_3_to_4_6_diff'] = data['1_3_mean'] - data['4_6_mean']\n",
    "\tdata['1_7_to_8_14_diff'] = data['1_7_mean'] - data['8_14_mean']\n",
    "\t\n",
    "\t# 周期特征\n",
    "\t#每月的日期、星期\n",
    "\tdata['day'] = df['date'].apply(lambda x : x.day)\n",
    "\tdata['weekday'] = df['date'].apply(lambda x : x.weekday())\n",
    "\t#data['month'] = df['date'].apply(lambda x : x.month)#月\n",
    "\t\n",
    "\t\n",
    "\t\n",
    "\t# 节假日、重要的促销活动日（比如双十一、618）\n",
    "\tdata['holiday'] = np.zeros(data.shape[0])\n",
    "\t#双11\n",
    "\tdata['holiday'][126] = 1\n",
    "\t\n",
    "\t\n",
    "\treturn data\n",
    "\n",
    "\n",
    "\n",
    "def get_model():\n",
    "\tmodel = lgb.LGBMRegressor(\n",
    "\t\t\t\tobjective='mse',\n",
    "\t\t\t\tn_estimators=2000, \n",
    "\t\t\t\tlearning_rate=0.1, \n",
    "\t\t\t\tmax_depth=7, \n",
    "\t\t\t\tnum_leaves=2**5-1, \n",
    "\t\t\t\tsubsample=0.8, \n",
    "\t\t\t\tcolsample_bytree=0.8,\n",
    "\t\t\t\t#min_child_samples=1, \n",
    "\t\t\t\t#reg_alpha=0.25, \n",
    "\t\t\t\t#reg_lambda=0.25, \n",
    "\t\t\t\trandom_state=2022\n",
    "\t\t\t\t)\n",
    "\treturn model\n",
    "\n",
    "\n",
    "\n",
    "def get_train_model(df_, m, features, cat_feat, rec):\n",
    "\t\n",
    "\tdf = df_.copy()\n",
    "\t# 数据集划分\n",
    "\tif rec==1:#递归预测\n",
    "\t\ttrain_idx = df['time_index'].between(1, m-1)\n",
    "\t\ttest_idx = df['time_index'].between(m, m)\n",
    "\telse:#直接预测\n",
    "\t\ttrain_idx = df['time_index'].between(1, 173)\n",
    "\t\ttest_idx = df['time_index'].between(m, m)\n",
    "\t\n",
    "\tmodel = get_model()\n",
    "\t#模型训练\n",
    "\tmodel.fit(df[train_idx][features], df[train_idx]['salesVolume'], categorical_feature=cat_feat, verbose=100)\n",
    "\t#预测（这里同时预测了训练集和测试集）\n",
    "\tdf['forecastVolume'] = model.predict(df[features]) \n",
    "\t\n",
    "\t#特征重要性\n",
    "\t#df_importance = pd.DataFrame({'column': features, 'importance': model.feature_importances_})\n",
    "\t#df_importance = df_importance.sort_values(by='importance', ascending=False).reset_index(drop=True)\n",
    "\t#df_importance.to_csv('/importance.csv', index=False)\n",
    "\t\n",
    "\t#按测试集id提取数据\n",
    "\tsub = df[test_idx][['商品id']]\n",
    "\tsub['forecastVolume'] = df[test_idx]['forecastVolume']\n",
    "\t\n",
    "\treturn sub"
   ]
  },
  {
   "cell_type": "code",
   "execution_count": 3,
   "id": "9e936413",
   "metadata": {
    "ExecuteTime": {
     "end_time": "2022-07-25T19:04:53.745271Z",
     "start_time": "2022-07-25T19:00:20.593264Z"
    }
   },
   "outputs": [
    {
     "name": "stdout",
     "output_type": "stream",
     "text": [
      "day_index: 174\n",
      "day_index: 175\n",
      "day_index: 176\n",
      "day_index: 177\n",
      "day_index: 178\n",
      "day_index: 179\n",
      "day_index: 180\n"
     ]
    }
   ],
   "source": [
    "data_path = glob.glob('/root/jupyter/DS_competition/科大讯飞2022电商销量预测挑战赛/xfdata/数据集/*')\n",
    "\n",
    "\n",
    "#rec为1则递归预测，rec为0则直接预测\n",
    "rec = 1\n",
    "\n",
    "train_data = pd.DataFrame()\n",
    "\n",
    "#存储每轮预测的预测值\n",
    "sub = pd.DataFrame()\n",
    "#存储7天预测值\n",
    "sub_7 = pd.DataFrame()\n",
    "\n",
    "for day_index in [174, 175, 176, 177, 178, 179, 180]:\n",
    "\t\n",
    "\t#按商品循环计算特征并合并所有数据\n",
    "\tfor dp in range(0,len(data_path)):\n",
    "\t\tif dp == 0:\n",
    "\t\t\ttrain_data = pd.read_csv(data_path[0])\n",
    "\t\t\ttrain_data = prepare(train_data)\n",
    "\t\t\t\n",
    "\t\t\t#把新的预测值作为历史数据\n",
    "\t\t\tif day_index >= 175:\n",
    "\t\t\t\ttrain_data['salesVolume'][day_index-1] = sub['forecastVolume'][0]\n",
    "\t\t\t\n",
    "\t\t\ttrain_data = get_feature(train_data, day_index, rec)\n",
    "\t\telse:\n",
    "\t\t\tdt = pd.read_csv(data_path[dp])\n",
    "\t\t\tdt = prepare(dt)\n",
    "\t\t\t\n",
    "\t\t\tif day_index >= 175:\n",
    "\t\t\t\tdt['salesVolume'][day_index-1] = sub['forecastVolume'][dp]\n",
    "\t\t\t\n",
    "\t\t\tdt = get_feature(dt, day_index, rec)\n",
    "\t\t\t\n",
    "\t\t\ttrain_data = pd.concat([train_data, dt],axis=0)\n",
    "\t\n",
    "\tcat_feat = ['商品id']\n",
    "\tfor i in cat_feat:\n",
    "\t\ttrain_data[i] = train_data[i].astype('category')\n",
    "\t\n",
    "\tfeatures = [ col for col in train_data.columns if col not in ['date','time_id','salesVolume']]\n",
    "\t\n",
    "\tsub = get_train_model(train_data, day_index, features, cat_feat, rec)\n",
    "\tsub.reset_index(drop=True, inplace=True)\n",
    "\t\n",
    "\t\n",
    "\tif day_index == 174:\n",
    "\t\tsub_7 = sub\n",
    "\telse:\n",
    "\t\tsub_7 = pd.concat([sub_7, sub], axis=0)\n",
    "\t\n",
    "\tprint('day_index:', day_index)"
   ]
  },
  {
   "cell_type": "code",
   "execution_count": 10,
   "id": "bbd00193",
   "metadata": {
    "ExecuteTime": {
     "end_time": "2022-07-25T19:14:41.065224Z",
     "start_time": "2022-07-25T19:14:41.059812Z"
    }
   },
   "outputs": [],
   "source": [
    "sub_7['forecastVolume'] = list(map(lambda x : 0 if x<=0 else (2**(x))-1, sub_7['forecastVolume']))"
   ]
  },
  {
   "cell_type": "code",
   "execution_count": 11,
   "id": "69535ade",
   "metadata": {
    "ExecuteTime": {
     "end_time": "2022-07-25T19:14:43.342389Z",
     "start_time": "2022-07-25T19:14:43.337542Z"
    }
   },
   "outputs": [],
   "source": [
    "sub_m = sub_7.groupby(['商品id']).agg({'forecastVolume':'mean'}).reset_index().rename(columns={'forecastVolume':'未来一周天均销量'})"
   ]
  },
  {
   "cell_type": "code",
   "execution_count": 12,
   "id": "f8c92a15",
   "metadata": {
    "ExecuteTime": {
     "end_time": "2022-07-25T19:14:44.927486Z",
     "start_time": "2022-07-25T19:14:44.921068Z"
    }
   },
   "outputs": [
    {
     "data": {
      "text/html": [
       "<div>\n",
       "<style scoped>\n",
       "    .dataframe tbody tr th:only-of-type {\n",
       "        vertical-align: middle;\n",
       "    }\n",
       "\n",
       "    .dataframe tbody tr th {\n",
       "        vertical-align: top;\n",
       "    }\n",
       "\n",
       "    .dataframe thead th {\n",
       "        text-align: right;\n",
       "    }\n",
       "</style>\n",
       "<table border=\"1\" class=\"dataframe\">\n",
       "  <thead>\n",
       "    <tr style=\"text-align: right;\">\n",
       "      <th></th>\n",
       "      <th>商品id</th>\n",
       "      <th>未来一周天均销量</th>\n",
       "    </tr>\n",
       "  </thead>\n",
       "  <tbody>\n",
       "    <tr>\n",
       "      <th>0</th>\n",
       "      <td>6袋9.9包邮口味升级装鸡精调料品土鸡鲜精独立包装100克</td>\n",
       "      <td>342.380287</td>\n",
       "    </tr>\n",
       "    <tr>\n",
       "      <th>1</th>\n",
       "      <td>C华夏百分变态超辣鬼椒面6桶装</td>\n",
       "      <td>212.573971</td>\n",
       "    </tr>\n",
       "    <tr>\n",
       "      <th>2</th>\n",
       "      <td>「陈会长严选」河南特产仲景香菇酱16g*12袋</td>\n",
       "      <td>0.019309</td>\n",
       "    </tr>\n",
       "    <tr>\n",
       "      <th>3</th>\n",
       "      <td>【9.9赠网红杯】碧翠园0蔗糖0脂速溶纯黑咖啡粉10包/盒</td>\n",
       "      <td>140.464284</td>\n",
       "    </tr>\n",
       "    <tr>\n",
       "      <th>4</th>\n",
       "      <td>【回味一梦】风干手撕鸭脖53g*3/6/9/15根 氮气保鲜网红小吃零食</td>\n",
       "      <td>239.624708</td>\n",
       "    </tr>\n",
       "    <tr>\n",
       "      <th>...</th>\n",
       "      <td>...</td>\n",
       "      <td>...</td>\n",
       "    </tr>\n",
       "    <tr>\n",
       "      <th>1444</th>\n",
       "      <td>（旗舰）甘源【囤货大礼包】核桃腰果炒米坚果炒货组合23包</td>\n",
       "      <td>89.150704</td>\n",
       "    </tr>\n",
       "    <tr>\n",
       "      <th>1445</th>\n",
       "      <td>（浮力）俄罗斯风味大列巴面包500gx4个</td>\n",
       "      <td>546.690933</td>\n",
       "    </tr>\n",
       "    <tr>\n",
       "      <th>1446</th>\n",
       "      <td>（秀姐年货节专享）肚肚家无骨鸡爪酸辣甜蒜香味吃播同款 2斤/罐</td>\n",
       "      <td>0.023071</td>\n",
       "    </tr>\n",
       "    <tr>\n",
       "      <th>1447</th>\n",
       "      <td>（自播链接）牛栏山小百年45度浓香型固态法纯粮酒255ml单瓶白酒</td>\n",
       "      <td>27.205811</td>\n",
       "    </tr>\n",
       "    <tr>\n",
       "      <th>1448</th>\n",
       "      <td>｛洪濑黑果鸡爪｝72g（鸡爪&amp;面筋混装）福建特产小吃锁鲜即食</td>\n",
       "      <td>287.698452</td>\n",
       "    </tr>\n",
       "  </tbody>\n",
       "</table>\n",
       "<p>1449 rows × 2 columns</p>\n",
       "</div>"
      ],
      "text/plain": [
       "                                       商品id    未来一周天均销量\n",
       "0             6袋9.9包邮口味升级装鸡精调料品土鸡鲜精独立包装100克  342.380287\n",
       "1                           C华夏百分变态超辣鬼椒面6桶装  212.573971\n",
       "2                   「陈会长严选」河南特产仲景香菇酱16g*12袋    0.019309\n",
       "3             【9.9赠网红杯】碧翠园0蔗糖0脂速溶纯黑咖啡粉10包/盒  140.464284\n",
       "4      【回味一梦】风干手撕鸭脖53g*3/6/9/15根 氮气保鲜网红小吃零食  239.624708\n",
       "...                                     ...         ...\n",
       "1444           （旗舰）甘源【囤货大礼包】核桃腰果炒米坚果炒货组合23包   89.150704\n",
       "1445                  （浮力）俄罗斯风味大列巴面包500gx4个  546.690933\n",
       "1446        （秀姐年货节专享）肚肚家无骨鸡爪酸辣甜蒜香味吃播同款 2斤/罐    0.023071\n",
       "1447      （自播链接）牛栏山小百年45度浓香型固态法纯粮酒255ml单瓶白酒   27.205811\n",
       "1448         ｛洪濑黑果鸡爪｝72g（鸡爪&面筋混装）福建特产小吃锁鲜即食  287.698452\n",
       "\n",
       "[1449 rows x 2 columns]"
      ]
     },
     "execution_count": 12,
     "metadata": {},
     "output_type": "execute_result"
    }
   ],
   "source": [
    "sub_m"
   ]
  },
  {
   "cell_type": "code",
   "execution_count": 19,
   "id": "f3450737",
   "metadata": {
    "ExecuteTime": {
     "end_time": "2022-07-25T19:33:33.922172Z",
     "start_time": "2022-07-25T19:33:33.914152Z"
    }
   },
   "outputs": [],
   "source": [
    "submit = pd.read_csv('/root/jupyter/DS_competition/科大讯飞2022电商销量预测挑战赛/xfdata/提交示例.csv')\n",
    "submit.drop(['未来一周天均销量'],axis=1,inplace=True)\n",
    "submit = pd.merge(submit,sub_m,on='商品id')"
   ]
  },
  {
   "cell_type": "code",
   "execution_count": 20,
   "id": "f6f3f6b9",
   "metadata": {
    "ExecuteTime": {
     "end_time": "2022-07-25T19:34:01.274222Z",
     "start_time": "2022-07-25T19:34:01.267445Z"
    }
   },
   "outputs": [],
   "source": [
    "submit.to_csv('/root/jupyter/DS_competition/科大讯飞2022电商销量预测挑战赛/predict_result/submit.csv', index=False)"
   ]
  },
  {
   "cell_type": "code",
   "execution_count": null,
   "id": "e46ebdc8",
   "metadata": {},
   "outputs": [],
   "source": []
  }
 ],
 "metadata": {
  "kernelspec": {
   "display_name": "py37",
   "language": "python",
   "name": "py37"
  },
  "language_info": {
   "codemirror_mode": {
    "name": "ipython",
    "version": 3
   },
   "file_extension": ".py",
   "mimetype": "text/x-python",
   "name": "python",
   "nbconvert_exporter": "python",
   "pygments_lexer": "ipython3",
   "version": "3.7.13"
  }
 },
 "nbformat": 4,
 "nbformat_minor": 5
}
