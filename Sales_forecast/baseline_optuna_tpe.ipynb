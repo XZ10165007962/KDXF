{
 "cells": [
  {
   "cell_type": "code",
   "execution_count": 1,
   "id": "74d3e9a7",
   "metadata": {},
   "outputs": [],
   "source": [
    "import pandas as pd\n",
    "import numpy as np\n",
    "import lightgbm as lgb\n",
    "import matplotlib.pyplot as plt\n",
    "from sklearn.model_selection import StratifiedKFold\n",
    "from sklearn.preprocessing import LabelEncoder"
   ]
  },
  {
   "cell_type": "code",
   "execution_count": 2,
   "id": "59390612",
   "metadata": {},
   "outputs": [],
   "source": [
    "# 显示所有列\n",
    "#pd.set_option('display.max_columns', None)\n",
    "# 显示所有行\n",
    "#pd.set_option('display.max_rows', None)\n",
    "# 设置value的显示长度为100，默认为50\n",
    "#pd.set_option('max_colwidth', 100)\n",
    "\n",
    "#import config\n",
    "\n",
    "\n",
    "LABEL = 'label'\n"
   ]
  },
  {
   "cell_type": "code",
   "execution_count": 3,
   "id": "7482ba38",
   "metadata": {},
   "outputs": [],
   "source": [
    "df_train = pd.read_csv(r'G:\\新秩序\\比赛\\商品需求训练集.csv')\n",
    "df_train_order = pd.read_csv(r'G:\\新秩序\\比赛\\商品月订单训练集.csv')\n",
    "df_train['date'] = pd.to_datetime(df_train['date'])\n",
    "df_train['year'] = df_train['date'].dt.year\n",
    "df_train['month'] = df_train['date'].dt.month\n",
    "df_train = df_train.groupby(['product_id', 'year', 'month'])[['is_sale_day', 'label']].sum().reset_index()\n",
    "df_train = df_train.merge(df_train_order, on=['product_id', 'year', 'month'], how='left')\n",
    "\n",
    "df_test = pd.read_csv(r'G:\\新秩序\\比赛\\商品需求测试集.csv')\n",
    "df_test_order = pd.read_csv(r'G:\\新秩序\\比赛\\商品月订单测试集.csv')\n",
    "df_test['date'] = pd.to_datetime(df_test['date'])\n",
    "df_test['year'] = df_test['date'].dt.year\n",
    "df_test['month'] = df_test['date'].dt.month\n",
    "df_test = df_test.groupby(['product_id', 'year', 'month'])[['is_sale_day']].sum().reset_index()\n",
    "df_test = df_test.merge(df_test_order, on=['product_id', 'year', 'month'], how='left')"
   ]
  },
  {
   "cell_type": "code",
   "execution_count": 4,
   "id": "74a16c18",
   "metadata": {},
   "outputs": [],
   "source": [
    "df = pd.concat([df_train, df_test])\n",
    "\n",
    "for i in range(1, 8):\n",
    "    for f in [LABEL, 'order', 'start_stock', 'end_stock']:\n",
    "        df[f+'_shift_%d'%i] = df.groupby('product_id')[f].shift(i+3)\n",
    "\n",
    "for i in range(1, 4):\n",
    "    for f in ['order', 'start_stock', 'end_stock']:\n",
    "        df[f+'_shift_-%d'%i] = df.groupby('product_id')[f].shift(-i)\n",
    "\n",
    "for i in [3, 6]:\n",
    "    for f in [LABEL, 'order', 'start_stock', 'end_stock']:\n",
    "        df[f+'_mean_%d'%i] = df[[f+'_shift_%d'%i for i in range(1, i+1)]].mean(axis=1)\n",
    "        df[f+'_std_%d'%i] = df[[f+'_shift_%d'%i for i in range(1, i+1)]].std(axis=1)\n",
    "        df[f+'_median_%d'%i] = df[[f+'_shift_%d'%i for i in range(1, i+1)]].median(axis=1)\n",
    "# df.to_csv(config.save_trans_data_dl_path, index=False)\n",
    "le = LabelEncoder()\n",
    "df['type'] = le.fit_transform(df['type'])\n",
    "df['type'] = df['type'].astype('category')\n",
    "\n",
    "df['product_id'] = df['product_id'].astype('category')\n",
    "\n",
    "df_train = df[df[LABEL].notna()].reset_index(drop=True)\n",
    "df_test = df[df[LABEL].isna()].reset_index(drop=True)\n",
    "feats = [f for f in df_test if f not in ['year', 'label']]\n",
    "\n",
    "df_train[LABEL+'_log1p'] = np.log1p(df_train[LABEL])"
   ]
  },
  {
   "cell_type": "code",
   "execution_count": 5,
   "id": "c72f1882",
   "metadata": {},
   "outputs": [],
   "source": [
    "def trymodel(df_train,params):\n",
    "    LABEL=\"label\"\n",
    "    seeds=[615]\n",
    "    seed=615\n",
    "    fold_num = 3\n",
    "    kf = StratifiedKFold(n_splits=fold_num, shuffle=True, random_state=seed)\n",
    "    oof = np.zeros(len(df_train))\n",
    "    pred_y = pd.DataFrame()\n",
    "    \n",
    "    for fold, (train_idx, val_idx) in enumerate(kf.split(df_train[feats], df_train['product_id'])):\n",
    "        train = lgb.Dataset(df_train.loc[train_idx, feats],df_train.loc[train_idx, LABEL+'_log1p'])\n",
    "        val = lgb.Dataset(df_train.loc[val_idx, feats],df_train.loc[val_idx, LABEL+'_log1p'])\n",
    "        model = lgb.train(params, train, valid_sets=[train, val], num_boost_round=1000,callbacks=[lgb.early_stopping(100)])\n",
    "        \n",
    "        oof[val_idx] += model.predict(df_train.loc[val_idx, feats]) / len(seeds)\n",
    "        pred_y['fold_%d_seed_%d' % (fold, seed)] = model.predict(df_test[feats])\n",
    "        #importance += model.feature_importance(importance_type='gain') / fold_num\n",
    "        \n",
    "    df_train['target_weight'] = df_train[LABEL] / df_train.groupby(['year', 'month'])[LABEL].transform('sum')\n",
    "    df_train['oof'] = np.expm1(oof)\n",
    "    score1 = np.sum((1 - np.abs(df_train[LABEL]-df_train['oof']) / (df_train[LABEL])\n",
    "                    ) *\n",
    "                    df_train['target_weight']) / 35\n",
    "    scores = score1\n",
    "    print(scores)\n",
    "    penis=np.mean(np.abs(df_train[LABEL]-np.expm1(oof)))\n",
    "    print(np.mean(np.abs(df_train[LABEL]-np.expm1(oof))))\n",
    "    \n",
    "    return scores"
   ]
  },
  {
   "cell_type": "code",
   "execution_count": 6,
   "id": "d55dc059",
   "metadata": {},
   "outputs": [],
   "source": [
    "import optuna"
   ]
  },
  {
   "cell_type": "code",
   "execution_count": null,
   "id": "28a96525",
   "metadata": {
    "scrolled": false
   },
   "outputs": [
    {
     "name": "stderr",
     "output_type": "stream",
     "text": [
      "\u001b[32m[I 2022-07-17 14:44:46,186]\u001b[0m A new study created in memory with name: no-name-d72012f7-ff13-44ee-bb74-ac555da7c7b0\u001b[0m\n",
      "G:\\anaconda3\\envs\\woshidashabi\\lib\\site-packages\\lightgbm\\basic.py:1780: UserWarning: Overriding the parameters from Reference Dataset.\n",
      "  _log_warning('Overriding the parameters from Reference Dataset.')\n",
      "G:\\anaconda3\\envs\\woshidashabi\\lib\\site-packages\\lightgbm\\basic.py:1513: UserWarning: categorical_column in param dict is overridden.\n",
      "  _log_warning(f'{cat_alias} in param dict is overridden.')\n"
     ]
    },
    {
     "name": "stdout",
     "output_type": "stream",
     "text": [
      "Training until validation scores don't improve for 100 rounds\n",
      "Did not meet early stopping. Best iteration is:\n",
      "[1000]\ttraining's l2: 0.61157\tvalid_1's l2: 0.578126\n",
      "Training until validation scores don't improve for 100 rounds\n",
      "Did not meet early stopping. Best iteration is:\n",
      "[1000]\ttraining's l2: 0.573676\tvalid_1's l2: 0.709944\n",
      "Training until validation scores don't improve for 100 rounds\n"
     ]
    },
    {
     "name": "stderr",
     "output_type": "stream",
     "text": [
      "\u001b[32m[I 2022-07-17 14:44:52,005]\u001b[0m Trial 0 finished with value: 0.6521411884388811 and parameters: {'learning_rate': 0.03286101032945966, 'lambda_l1': 2.142365010719385e-08, 'lambda_l2': 1.254730129103374, 'num_leaves': 156, 'feature_fraction': 0.7646956316986999, 'bagging_fraction': 0.7772981869350989, 'bagging_freq': 1, 'min_child_samples': 89}. Best is trial 0 with value: 0.6521411884388811.\u001b[0m\n"
     ]
    },
    {
     "name": "stdout",
     "output_type": "stream",
     "text": [
      "Did not meet early stopping. Best iteration is:\n",
      "[1000]\ttraining's l2: 0.600629\tvalid_1's l2: 0.678224\n",
      "0.6521411884388811\n",
      "601.2458421639263\n"
     ]
    },
    {
     "name": "stderr",
     "output_type": "stream",
     "text": [
      "G:\\anaconda3\\envs\\woshidashabi\\lib\\site-packages\\lightgbm\\basic.py:1780: UserWarning: Overriding the parameters from Reference Dataset.\n",
      "  _log_warning('Overriding the parameters from Reference Dataset.')\n",
      "G:\\anaconda3\\envs\\woshidashabi\\lib\\site-packages\\lightgbm\\basic.py:1513: UserWarning: categorical_column in param dict is overridden.\n",
      "  _log_warning(f'{cat_alias} in param dict is overridden.')\n"
     ]
    },
    {
     "name": "stdout",
     "output_type": "stream",
     "text": [
      "Training until validation scores don't improve for 100 rounds\n",
      "Did not meet early stopping. Best iteration is:\n",
      "[1000]\ttraining's l2: 0.421179\tvalid_1's l2: 0.4725\n",
      "Training until validation scores don't improve for 100 rounds\n",
      "Did not meet early stopping. Best iteration is:\n",
      "[1000]\ttraining's l2: 0.368737\tvalid_1's l2: 0.543005\n",
      "Training until validation scores don't improve for 100 rounds\n",
      "Did not meet early stopping. Best iteration is:\n",
      "[1000]\ttraining's l2: 0.411966\tvalid_1's l2: 0.516942\n"
     ]
    },
    {
     "name": "stderr",
     "output_type": "stream",
     "text": [
      "\u001b[32m[I 2022-07-17 14:45:02,659]\u001b[0m Trial 1 finished with value: 0.6848479630247535 and parameters: {'learning_rate': 0.01671673815095568, 'lambda_l1': 9.048678707683285e-05, 'lambda_l2': 2.352806442900597e-06, 'num_leaves': 159, 'feature_fraction': 0.5394407782887692, 'bagging_fraction': 0.8317909901596853, 'bagging_freq': 4, 'min_child_samples': 33}. Best is trial 1 with value: 0.6848479630247535.\u001b[0m\n"
     ]
    },
    {
     "name": "stdout",
     "output_type": "stream",
     "text": [
      "0.6848479630247535\n",
      "553.7331978213524\n",
      "Training until validation scores don't improve for 100 rounds\n"
     ]
    },
    {
     "name": "stderr",
     "output_type": "stream",
     "text": [
      "G:\\anaconda3\\envs\\woshidashabi\\lib\\site-packages\\lightgbm\\basic.py:1780: UserWarning: Overriding the parameters from Reference Dataset.\n",
      "  _log_warning('Overriding the parameters from Reference Dataset.')\n",
      "G:\\anaconda3\\envs\\woshidashabi\\lib\\site-packages\\lightgbm\\basic.py:1513: UserWarning: categorical_column in param dict is overridden.\n",
      "  _log_warning(f'{cat_alias} in param dict is overridden.')\n"
     ]
    },
    {
     "name": "stdout",
     "output_type": "stream",
     "text": [
      "Did not meet early stopping. Best iteration is:\n",
      "[1000]\ttraining's l2: 0.521583\tvalid_1's l2: 0.534189\n",
      "Training until validation scores don't improve for 100 rounds\n",
      "Did not meet early stopping. Best iteration is:\n",
      "[1000]\ttraining's l2: 0.496209\tvalid_1's l2: 0.631432\n",
      "Training until validation scores don't improve for 100 rounds\n"
     ]
    },
    {
     "name": "stderr",
     "output_type": "stream",
     "text": [
      "\u001b[32m[I 2022-07-17 14:45:08,663]\u001b[0m Trial 2 finished with value: 0.662645824258433 and parameters: {'learning_rate': 0.022074249589345934, 'lambda_l1': 6.142870844579281e-07, 'lambda_l2': 1.332369240149413e-06, 'num_leaves': 103, 'feature_fraction': 0.45450179781342726, 'bagging_fraction': 0.6812201744055164, 'bagging_freq': 5, 'min_child_samples': 52}. Best is trial 1 with value: 0.6848479630247535.\u001b[0m\n"
     ]
    },
    {
     "name": "stdout",
     "output_type": "stream",
     "text": [
      "Did not meet early stopping. Best iteration is:\n",
      "[1000]\ttraining's l2: 0.527208\tvalid_1's l2: 0.620421\n",
      "0.662645824258433\n",
      "590.5397520573403\n"
     ]
    },
    {
     "name": "stderr",
     "output_type": "stream",
     "text": [
      "G:\\anaconda3\\envs\\woshidashabi\\lib\\site-packages\\lightgbm\\basic.py:1780: UserWarning: Overriding the parameters from Reference Dataset.\n",
      "  _log_warning('Overriding the parameters from Reference Dataset.')\n",
      "G:\\anaconda3\\envs\\woshidashabi\\lib\\site-packages\\lightgbm\\basic.py:1513: UserWarning: categorical_column in param dict is overridden.\n",
      "  _log_warning(f'{cat_alias} in param dict is overridden.')\n"
     ]
    },
    {
     "name": "stdout",
     "output_type": "stream",
     "text": [
      "Training until validation scores don't improve for 100 rounds\n",
      "Did not meet early stopping. Best iteration is:\n",
      "[1000]\ttraining's l2: 0.792779\tvalid_1's l2: 0.706842\n",
      "Training until validation scores don't improve for 100 rounds\n",
      "Did not meet early stopping. Best iteration is:\n",
      "[1000]\ttraining's l2: 0.743048\tvalid_1's l2: 0.834896\n",
      "Training until validation scores don't improve for 100 rounds\n"
     ]
    },
    {
     "name": "stderr",
     "output_type": "stream",
     "text": [
      "\u001b[32m[I 2022-07-17 14:45:10,157]\u001b[0m Trial 3 finished with value: 0.5221815942670576 and parameters: {'learning_rate': 0.027748754116392577, 'lambda_l1': 2.9153168780298273, 'lambda_l2': 5.583195798304895e-05, 'num_leaves': 3, 'feature_fraction': 0.7615129618287693, 'bagging_fraction': 0.5301877152406487, 'bagging_freq': 7, 'min_child_samples': 52}. Best is trial 1 with value: 0.6848479630247535.\u001b[0m\n"
     ]
    },
    {
     "name": "stdout",
     "output_type": "stream",
     "text": [
      "Did not meet early stopping. Best iteration is:\n",
      "[1000]\ttraining's l2: 0.750025\tvalid_1's l2: 0.804652\n",
      "0.5221815942670576\n",
      "778.4168416782377\n",
      "Training until validation scores don't improve for 100 rounds\n"
     ]
    },
    {
     "name": "stderr",
     "output_type": "stream",
     "text": [
      "G:\\anaconda3\\envs\\woshidashabi\\lib\\site-packages\\lightgbm\\basic.py:1780: UserWarning: Overriding the parameters from Reference Dataset.\n",
      "  _log_warning('Overriding the parameters from Reference Dataset.')\n",
      "G:\\anaconda3\\envs\\woshidashabi\\lib\\site-packages\\lightgbm\\basic.py:1513: UserWarning: categorical_column in param dict is overridden.\n",
      "  _log_warning(f'{cat_alias} in param dict is overridden.')\n"
     ]
    },
    {
     "name": "stdout",
     "output_type": "stream",
     "text": [
      "Did not meet early stopping. Best iteration is:\n",
      "[1000]\ttraining's l2: 0.453591\tvalid_1's l2: 0.485536\n",
      "Training until validation scores don't improve for 100 rounds\n",
      "Did not meet early stopping. Best iteration is:\n",
      "[1000]\ttraining's l2: 0.433341\tvalid_1's l2: 0.59948\n",
      "Training until validation scores don't improve for 100 rounds\n"
     ]
    },
    {
     "name": "stderr",
     "output_type": "stream",
     "text": [
      "\u001b[32m[I 2022-07-17 14:45:16,546]\u001b[0m Trial 4 finished with value: 0.6877162362446906 and parameters: {'learning_rate': 0.09329051878257653, 'lambda_l1': 7.765001596858278, 'lambda_l2': 1.3431963967510333e-08, 'num_leaves': 193, 'feature_fraction': 0.6162803792355033, 'bagging_fraction': 0.8951933903366578, 'bagging_freq': 3, 'min_child_samples': 49}. Best is trial 4 with value: 0.6877162362446906.\u001b[0m\n"
     ]
    },
    {
     "name": "stdout",
     "output_type": "stream",
     "text": [
      "Did not meet early stopping. Best iteration is:\n",
      "[1000]\ttraining's l2: 0.469673\tvalid_1's l2: 0.577548\n",
      "0.6877162362446906\n",
      "571.9743198441248\n"
     ]
    },
    {
     "name": "stderr",
     "output_type": "stream",
     "text": [
      "G:\\anaconda3\\envs\\woshidashabi\\lib\\site-packages\\lightgbm\\basic.py:1780: UserWarning: Overriding the parameters from Reference Dataset.\n",
      "  _log_warning('Overriding the parameters from Reference Dataset.')\n",
      "G:\\anaconda3\\envs\\woshidashabi\\lib\\site-packages\\lightgbm\\basic.py:1513: UserWarning: categorical_column in param dict is overridden.\n",
      "  _log_warning(f'{cat_alias} in param dict is overridden.')\n"
     ]
    },
    {
     "name": "stdout",
     "output_type": "stream",
     "text": [
      "Training until validation scores don't improve for 100 rounds\n",
      "Did not meet early stopping. Best iteration is:\n",
      "[1000]\ttraining's l2: 0.394747\tvalid_1's l2: 0.437958\n",
      "Training until validation scores don't improve for 100 rounds\n",
      "Did not meet early stopping. Best iteration is:\n",
      "[1000]\ttraining's l2: 0.346654\tvalid_1's l2: 0.553782\n",
      "Training until validation scores don't improve for 100 rounds\n",
      "Did not meet early stopping. Best iteration is:\n",
      "[1000]\ttraining's l2: 0.395515\tvalid_1's l2: 0.509297\n",
      "0.6844490201294353\n"
     ]
    },
    {
     "name": "stderr",
     "output_type": "stream",
     "text": [
      "\u001b[32m[I 2022-07-17 14:45:24,916]\u001b[0m Trial 5 finished with value: 0.6844490201294353 and parameters: {'learning_rate': 0.02808740448134972, 'lambda_l1': 2.6582399391614677, 'lambda_l2': 3.067740578538367, 'num_leaves': 223, 'feature_fraction': 0.542121449659734, 'bagging_fraction': 0.5168687662717316, 'bagging_freq': 1, 'min_child_samples': 15}. Best is trial 4 with value: 0.6877162362446906.\u001b[0m\n"
     ]
    },
    {
     "name": "stdout",
     "output_type": "stream",
     "text": [
      "552.1301095198933\n",
      "Training until validation scores don't improve for 100 rounds\n"
     ]
    },
    {
     "name": "stderr",
     "output_type": "stream",
     "text": [
      "G:\\anaconda3\\envs\\woshidashabi\\lib\\site-packages\\lightgbm\\basic.py:1780: UserWarning: Overriding the parameters from Reference Dataset.\n",
      "  _log_warning('Overriding the parameters from Reference Dataset.')\n",
      "G:\\anaconda3\\envs\\woshidashabi\\lib\\site-packages\\lightgbm\\basic.py:1513: UserWarning: categorical_column in param dict is overridden.\n",
      "  _log_warning(f'{cat_alias} in param dict is overridden.')\n"
     ]
    },
    {
     "name": "stdout",
     "output_type": "stream",
     "text": [
      "Did not meet early stopping. Best iteration is:\n",
      "[1000]\ttraining's l2: 0.644638\tvalid_1's l2: 0.600916\n",
      "Training until validation scores don't improve for 100 rounds\n",
      "Did not meet early stopping. Best iteration is:\n",
      "[1000]\ttraining's l2: 0.590819\tvalid_1's l2: 0.68262\n",
      "Training until validation scores don't improve for 100 rounds\n"
     ]
    },
    {
     "name": "stderr",
     "output_type": "stream",
     "text": [
      "\u001b[32m[I 2022-07-17 14:45:31,418]\u001b[0m Trial 6 finished with value: 0.6542556293690702 and parameters: {'learning_rate': 0.018100897395713966, 'lambda_l1': 1.1588441703781252e-08, 'lambda_l2': 0.014912953212294919, 'num_leaves': 236, 'feature_fraction': 0.9698220662410482, 'bagging_fraction': 0.8475563958292875, 'bagging_freq': 7, 'min_child_samples': 87}. Best is trial 4 with value: 0.6877162362446906.\u001b[0m\n"
     ]
    },
    {
     "name": "stdout",
     "output_type": "stream",
     "text": [
      "Did not meet early stopping. Best iteration is:\n",
      "[1000]\ttraining's l2: 0.601232\tvalid_1's l2: 0.703687\n",
      "0.6542556293690702\n",
      "598.122231877143\n"
     ]
    },
    {
     "name": "stderr",
     "output_type": "stream",
     "text": [
      "G:\\anaconda3\\envs\\woshidashabi\\lib\\site-packages\\lightgbm\\basic.py:1780: UserWarning: Overriding the parameters from Reference Dataset.\n",
      "  _log_warning('Overriding the parameters from Reference Dataset.')\n",
      "G:\\anaconda3\\envs\\woshidashabi\\lib\\site-packages\\lightgbm\\basic.py:1513: UserWarning: categorical_column in param dict is overridden.\n",
      "  _log_warning(f'{cat_alias} in param dict is overridden.')\n"
     ]
    },
    {
     "name": "stdout",
     "output_type": "stream",
     "text": [
      "Training until validation scores don't improve for 100 rounds\n",
      "Did not meet early stopping. Best iteration is:\n",
      "[1000]\ttraining's l2: 0.520544\tvalid_1's l2: 0.539452\n",
      "Training until validation scores don't improve for 100 rounds\n",
      "Did not meet early stopping. Best iteration is:\n",
      "[1000]\ttraining's l2: 0.495419\tvalid_1's l2: 0.625202\n",
      "Training until validation scores don't improve for 100 rounds\n"
     ]
    },
    {
     "name": "stderr",
     "output_type": "stream",
     "text": [
      "\u001b[32m[I 2022-07-17 14:45:37,721]\u001b[0m Trial 7 finished with value: 0.6685862821666758 and parameters: {'learning_rate': 0.020920224780718727, 'lambda_l1': 1.2037987957936504e-07, 'lambda_l2': 0.0002846171381176709, 'num_leaves': 37, 'feature_fraction': 0.544715989750827, 'bagging_fraction': 0.6484302842872963, 'bagging_freq': 4, 'min_child_samples': 44}. Best is trial 4 with value: 0.6877162362446906.\u001b[0m\n"
     ]
    },
    {
     "name": "stdout",
     "output_type": "stream",
     "text": [
      "Did not meet early stopping. Best iteration is:\n",
      "[1000]\ttraining's l2: 0.52125\tvalid_1's l2: 0.614752\n",
      "0.6685862821666758\n",
      "579.7635986149212\n"
     ]
    },
    {
     "name": "stderr",
     "output_type": "stream",
     "text": [
      "G:\\anaconda3\\envs\\woshidashabi\\lib\\site-packages\\lightgbm\\basic.py:1780: UserWarning: Overriding the parameters from Reference Dataset.\n",
      "  _log_warning('Overriding the parameters from Reference Dataset.')\n",
      "G:\\anaconda3\\envs\\woshidashabi\\lib\\site-packages\\lightgbm\\basic.py:1513: UserWarning: categorical_column in param dict is overridden.\n",
      "  _log_warning(f'{cat_alias} in param dict is overridden.')\n"
     ]
    },
    {
     "name": "stdout",
     "output_type": "stream",
     "text": [
      "Training until validation scores don't improve for 100 rounds\n",
      "Did not meet early stopping. Best iteration is:\n",
      "[1000]\ttraining's l2: 0.766017\tvalid_1's l2: 0.724191\n",
      "Training until validation scores don't improve for 100 rounds\n",
      "Did not meet early stopping. Best iteration is:\n",
      "[1000]\ttraining's l2: 0.782558\tvalid_1's l2: 0.973044\n",
      "Training until validation scores don't improve for 100 rounds\n"
     ]
    },
    {
     "name": "stderr",
     "output_type": "stream",
     "text": [
      "\u001b[32m[I 2022-07-17 14:45:41,673]\u001b[0m Trial 8 finished with value: 0.6090202306441758 and parameters: {'learning_rate': 0.08226883999757696, 'lambda_l1': 0.5012697818911173, 'lambda_l2': 0.0067997708804050155, 'num_leaves': 111, 'feature_fraction': 0.8198243784627319, 'bagging_fraction': 0.44505755477994796, 'bagging_freq': 1, 'min_child_samples': 97}. Best is trial 4 with value: 0.6877162362446906.\u001b[0m\n"
     ]
    },
    {
     "name": "stdout",
     "output_type": "stream",
     "text": [
      "Did not meet early stopping. Best iteration is:\n",
      "[1000]\ttraining's l2: 0.754463\tvalid_1's l2: 0.816463\n",
      "0.6090202306441758\n",
      "641.249107978869\n",
      "Training until validation scores don't improve for 100 rounds\n"
     ]
    },
    {
     "name": "stderr",
     "output_type": "stream",
     "text": [
      "G:\\anaconda3\\envs\\woshidashabi\\lib\\site-packages\\lightgbm\\basic.py:1780: UserWarning: Overriding the parameters from Reference Dataset.\n",
      "  _log_warning('Overriding the parameters from Reference Dataset.')\n",
      "G:\\anaconda3\\envs\\woshidashabi\\lib\\site-packages\\lightgbm\\basic.py:1513: UserWarning: categorical_column in param dict is overridden.\n",
      "  _log_warning(f'{cat_alias} in param dict is overridden.')\n"
     ]
    },
    {
     "name": "stdout",
     "output_type": "stream",
     "text": [
      "Did not meet early stopping. Best iteration is:\n",
      "[1000]\ttraining's l2: 0.574399\tvalid_1's l2: 0.575985\n",
      "Training until validation scores don't improve for 100 rounds\n",
      "Did not meet early stopping. Best iteration is:\n",
      "[1000]\ttraining's l2: 0.520241\tvalid_1's l2: 0.658247\n",
      "Training until validation scores don't improve for 100 rounds\n"
     ]
    },
    {
     "name": "stderr",
     "output_type": "stream",
     "text": [
      "\u001b[32m[I 2022-07-17 14:45:48,767]\u001b[0m Trial 9 finished with value: 0.674791141610627 and parameters: {'learning_rate': 0.05853186903169901, 'lambda_l1': 0.008938238608681686, 'lambda_l2': 1.0336273836894766e-06, 'num_leaves': 99, 'feature_fraction': 0.7837945346333417, 'bagging_fraction': 0.5290123779680671, 'bagging_freq': 1, 'min_child_samples': 49}. Best is trial 4 with value: 0.6877162362446906.\u001b[0m\n"
     ]
    },
    {
     "name": "stdout",
     "output_type": "stream",
     "text": [
      "Did not meet early stopping. Best iteration is:\n",
      "[1000]\ttraining's l2: 0.545733\tvalid_1's l2: 0.647227\n",
      "0.674791141610627\n",
      "580.8011750210069\n"
     ]
    },
    {
     "name": "stderr",
     "output_type": "stream",
     "text": [
      "G:\\anaconda3\\envs\\woshidashabi\\lib\\site-packages\\lightgbm\\basic.py:1780: UserWarning: Overriding the parameters from Reference Dataset.\n",
      "  _log_warning('Overriding the parameters from Reference Dataset.')\n",
      "G:\\anaconda3\\envs\\woshidashabi\\lib\\site-packages\\lightgbm\\basic.py:1513: UserWarning: categorical_column in param dict is overridden.\n",
      "  _log_warning(f'{cat_alias} in param dict is overridden.')\n"
     ]
    },
    {
     "name": "stdout",
     "output_type": "stream",
     "text": [
      "Training until validation scores don't improve for 100 rounds\n",
      "Did not meet early stopping. Best iteration is:\n",
      "[1000]\ttraining's l2: 0.503625\tvalid_1's l2: 0.534195\n",
      "Training until validation scores don't improve for 100 rounds\n",
      "Did not meet early stopping. Best iteration is:\n",
      "[1000]\ttraining's l2: 0.492062\tvalid_1's l2: 0.639654\n",
      "Training until validation scores don't improve for 100 rounds\n"
     ]
    },
    {
     "name": "stderr",
     "output_type": "stream",
     "text": [
      "\u001b[32m[I 2022-07-17 14:45:56,419]\u001b[0m Trial 10 finished with value: 0.6808881126923187 and parameters: {'learning_rate': 0.05080404559706426, 'lambda_l1': 0.010743690335738864, 'lambda_l2': 3.675916596195354e-08, 'num_leaves': 192, 'feature_fraction': 0.6230419314922322, 'bagging_fraction': 0.9874354326695528, 'bagging_freq': 3, 'min_child_samples': 71}. Best is trial 4 with value: 0.6877162362446906.\u001b[0m\n"
     ]
    },
    {
     "name": "stdout",
     "output_type": "stream",
     "text": [
      "Did not meet early stopping. Best iteration is:\n",
      "[1000]\ttraining's l2: 0.511172\tvalid_1's l2: 0.607745\n",
      "0.6808881126923187\n",
      "561.782111850497\n"
     ]
    },
    {
     "name": "stderr",
     "output_type": "stream",
     "text": [
      "G:\\anaconda3\\envs\\woshidashabi\\lib\\site-packages\\lightgbm\\basic.py:1780: UserWarning: Overriding the parameters from Reference Dataset.\n",
      "  _log_warning('Overriding the parameters from Reference Dataset.')\n",
      "G:\\anaconda3\\envs\\woshidashabi\\lib\\site-packages\\lightgbm\\basic.py:1513: UserWarning: categorical_column in param dict is overridden.\n",
      "  _log_warning(f'{cat_alias} in param dict is overridden.')\n"
     ]
    },
    {
     "name": "stdout",
     "output_type": "stream",
     "text": [
      "Training until validation scores don't improve for 100 rounds\n",
      "Did not meet early stopping. Best iteration is:\n",
      "[1000]\ttraining's l2: 0.309957\tvalid_1's l2: 0.39076\n",
      "Training until validation scores don't improve for 100 rounds\n",
      "Did not meet early stopping. Best iteration is:\n",
      "[1000]\ttraining's l2: 0.303144\tvalid_1's l2: 0.496401\n",
      "Training until validation scores don't improve for 100 rounds\n",
      "Did not meet early stopping. Best iteration is:\n",
      "[1000]\ttraining's l2: 0.319694\tvalid_1's l2: 0.439124\n"
     ]
    },
    {
     "name": "stderr",
     "output_type": "stream",
     "text": [
      "\u001b[32m[I 2022-07-17 14:46:11,060]\u001b[0m Trial 11 finished with value: 0.693037737086417 and parameters: {'learning_rate': 0.01036259874089018, 'lambda_l1': 1.624697772023506e-05, 'lambda_l2': 1.575295940136972e-08, 'num_leaves': 154, 'feature_fraction': 0.43068801015856645, 'bagging_fraction': 0.9308932583082732, 'bagging_freq': 3, 'min_child_samples': 22}. Best is trial 11 with value: 0.693037737086417.\u001b[0m\n"
     ]
    },
    {
     "name": "stdout",
     "output_type": "stream",
     "text": [
      "0.693037737086417\n",
      "540.8776219900531\n",
      "Training until validation scores don't improve for 100 rounds\n"
     ]
    },
    {
     "name": "stderr",
     "output_type": "stream",
     "text": [
      "G:\\anaconda3\\envs\\woshidashabi\\lib\\site-packages\\lightgbm\\basic.py:1780: UserWarning: Overriding the parameters from Reference Dataset.\n",
      "  _log_warning('Overriding the parameters from Reference Dataset.')\n",
      "G:\\anaconda3\\envs\\woshidashabi\\lib\\site-packages\\lightgbm\\basic.py:1513: UserWarning: categorical_column in param dict is overridden.\n",
      "  _log_warning(f'{cat_alias} in param dict is overridden.')\n"
     ]
    },
    {
     "name": "stdout",
     "output_type": "stream",
     "text": [
      "Did not meet early stopping. Best iteration is:\n",
      "[1000]\ttraining's l2: 0.152546\tvalid_1's l2: 0.365451\n",
      "Training until validation scores don't improve for 100 rounds\n",
      "Did not meet early stopping. Best iteration is:\n",
      "[1000]\ttraining's l2: 0.12598\tvalid_1's l2: 0.445369\n",
      "Training until validation scores don't improve for 100 rounds\n",
      "Did not meet early stopping. Best iteration is:\n",
      "[1000]\ttraining's l2: 0.145126\tvalid_1's l2: 0.407277\n"
     ]
    },
    {
     "name": "stderr",
     "output_type": "stream",
     "text": [
      "\u001b[32m[I 2022-07-17 14:46:37,902]\u001b[0m Trial 12 finished with value: 0.7091052885269497 and parameters: {'learning_rate': 0.012981127564158885, 'lambda_l1': 1.8687831365410602e-05, 'lambda_l2': 4.6709122664727175e-08, 'num_leaves': 195, 'feature_fraction': 0.4122930930657326, 'bagging_fraction': 0.9818254172622298, 'bagging_freq': 3, 'min_child_samples': 6}. Best is trial 12 with value: 0.7091052885269497.\u001b[0m\n"
     ]
    },
    {
     "name": "stdout",
     "output_type": "stream",
     "text": [
      "0.7091052885269497\n",
      "518.0552090223729\n",
      "Training until validation scores don't improve for 100 rounds\n"
     ]
    },
    {
     "name": "stderr",
     "output_type": "stream",
     "text": [
      "G:\\anaconda3\\envs\\woshidashabi\\lib\\site-packages\\lightgbm\\basic.py:1780: UserWarning: Overriding the parameters from Reference Dataset.\n",
      "  _log_warning('Overriding the parameters from Reference Dataset.')\n",
      "G:\\anaconda3\\envs\\woshidashabi\\lib\\site-packages\\lightgbm\\basic.py:1513: UserWarning: categorical_column in param dict is overridden.\n",
      "  _log_warning(f'{cat_alias} in param dict is overridden.')\n"
     ]
    },
    {
     "name": "stdout",
     "output_type": "stream",
     "text": [
      "Did not meet early stopping. Best iteration is:\n",
      "[1000]\ttraining's l2: 0.199823\tvalid_1's l2: 0.380725\n",
      "Training until validation scores don't improve for 100 rounds\n",
      "Did not meet early stopping. Best iteration is:\n",
      "[1000]\ttraining's l2: 0.168469\tvalid_1's l2: 0.453444\n",
      "Training until validation scores don't improve for 100 rounds\n",
      "Did not meet early stopping. Best iteration is:\n",
      "[1000]\ttraining's l2: 0.205242\tvalid_1's l2: 0.416737\n"
     ]
    },
    {
     "name": "stderr",
     "output_type": "stream",
     "text": [
      "\u001b[32m[I 2022-07-17 14:46:58,119]\u001b[0m Trial 13 finished with value: 0.7033048033156679 and parameters: {'learning_rate': 0.010086986935941311, 'lambda_l1': 9.986690571547883e-06, 'lambda_l2': 1.2452696030505307e-07, 'num_leaves': 150, 'feature_fraction': 0.40468146721964426, 'bagging_fraction': 0.9871839337754148, 'bagging_freq': 3, 'min_child_samples': 8}. Best is trial 12 with value: 0.7091052885269497.\u001b[0m\n"
     ]
    },
    {
     "name": "stdout",
     "output_type": "stream",
     "text": [
      "0.7033048033156679\n",
      "522.8906908346567\n",
      "Training until validation scores don't improve for 100 rounds\n"
     ]
    },
    {
     "name": "stderr",
     "output_type": "stream",
     "text": [
      "G:\\anaconda3\\envs\\woshidashabi\\lib\\site-packages\\lightgbm\\basic.py:1780: UserWarning: Overriding the parameters from Reference Dataset.\n",
      "  _log_warning('Overriding the parameters from Reference Dataset.')\n",
      "G:\\anaconda3\\envs\\woshidashabi\\lib\\site-packages\\lightgbm\\basic.py:1513: UserWarning: categorical_column in param dict is overridden.\n",
      "  _log_warning(f'{cat_alias} in param dict is overridden.')\n"
     ]
    },
    {
     "name": "stdout",
     "output_type": "stream",
     "text": [
      "Did not meet early stopping. Best iteration is:\n",
      "[1000]\ttraining's l2: 0.238898\tvalid_1's l2: 0.373736\n",
      "Training until validation scores don't improve for 100 rounds\n",
      "Did not meet early stopping. Best iteration is:\n",
      "[1000]\ttraining's l2: 0.204473\tvalid_1's l2: 0.4705\n",
      "Training until validation scores don't improve for 100 rounds\n",
      "Did not meet early stopping. Best iteration is:\n",
      "[1000]\ttraining's l2: 0.226113\tvalid_1's l2: 0.416744\n"
     ]
    },
    {
     "name": "stderr",
     "output_type": "stream",
     "text": [
      "\u001b[32m[I 2022-07-17 14:47:10,335]\u001b[0m Trial 14 finished with value: 0.704888764229436 and parameters: {'learning_rate': 0.010262174377041787, 'lambda_l1': 3.831345130976065e-06, 'lambda_l2': 2.5800973631664745e-07, 'num_leaves': 66, 'feature_fraction': 0.4047232420625018, 'bagging_fraction': 0.985656735271357, 'bagging_freq': 5, 'min_child_samples': 6}. Best is trial 12 with value: 0.7091052885269497.\u001b[0m\n"
     ]
    },
    {
     "name": "stdout",
     "output_type": "stream",
     "text": [
      "0.704888764229436\n",
      "519.6807649643218\n",
      "Training until validation scores don't improve for 100 rounds\n"
     ]
    },
    {
     "name": "stderr",
     "output_type": "stream",
     "text": [
      "G:\\anaconda3\\envs\\woshidashabi\\lib\\site-packages\\lightgbm\\basic.py:1780: UserWarning: Overriding the parameters from Reference Dataset.\n",
      "  _log_warning('Overriding the parameters from Reference Dataset.')\n",
      "G:\\anaconda3\\envs\\woshidashabi\\lib\\site-packages\\lightgbm\\basic.py:1513: UserWarning: categorical_column in param dict is overridden.\n",
      "  _log_warning(f'{cat_alias} in param dict is overridden.')\n"
     ]
    },
    {
     "name": "stdout",
     "output_type": "stream",
     "text": [
      "Did not meet early stopping. Best iteration is:\n",
      "[1000]\ttraining's l2: 0.253254\tvalid_1's l2: 0.367888\n",
      "Training until validation scores don't improve for 100 rounds\n",
      "Did not meet early stopping. Best iteration is:\n",
      "[1000]\ttraining's l2: 0.218753\tvalid_1's l2: 0.483281\n",
      "Training until validation scores don't improve for 100 rounds\n",
      "Did not meet early stopping. Best iteration is:\n",
      "[1000]\ttraining's l2: 0.25075\tvalid_1's l2: 0.431499\n",
      "0.7020967421301798"
     ]
    },
    {
     "name": "stderr",
     "output_type": "stream",
     "text": [
      "\u001b[32m[I 2022-07-17 14:47:22,417]\u001b[0m Trial 15 finished with value: 0.7020967421301798 and parameters: {'learning_rate': 0.012973397433991648, 'lambda_l1': 1.81948262155975e-06, 'lambda_l2': 1.842888150014684e-05, 'num_leaves': 53, 'feature_fraction': 0.4968202890928578, 'bagging_fraction': 0.780641815802883, 'bagging_freq': 5, 'min_child_samples': 5}. Best is trial 12 with value: 0.7091052885269497.\u001b[0m\n"
     ]
    },
    {
     "name": "stdout",
     "output_type": "stream",
     "text": [
      "\n",
      "519.2117515820569\n",
      "Training until validation scores don't improve for 100 rounds\n"
     ]
    },
    {
     "name": "stderr",
     "output_type": "stream",
     "text": [
      "G:\\anaconda3\\envs\\woshidashabi\\lib\\site-packages\\lightgbm\\basic.py:1780: UserWarning: Overriding the parameters from Reference Dataset.\n",
      "  _log_warning('Overriding the parameters from Reference Dataset.')\n",
      "G:\\anaconda3\\envs\\woshidashabi\\lib\\site-packages\\lightgbm\\basic.py:1513: UserWarning: categorical_column in param dict is overridden.\n",
      "  _log_warning(f'{cat_alias} in param dict is overridden.')\n"
     ]
    },
    {
     "name": "stdout",
     "output_type": "stream",
     "text": [
      "Did not meet early stopping. Best iteration is:\n",
      "[1000]\ttraining's l2: 0.400766\tvalid_1's l2: 0.463031\n",
      "Training until validation scores don't improve for 100 rounds\n",
      "Did not meet early stopping. Best iteration is:\n",
      "[1000]\ttraining's l2: 0.332825\tvalid_1's l2: 0.523931\n",
      "Training until validation scores don't improve for 100 rounds\n",
      "Did not meet early stopping. Best iteration is:\n",
      "[1000]\ttraining's l2: 0.399109\tvalid_1's l2: 0.494213\n"
     ]
    },
    {
     "name": "stderr",
     "output_type": "stream",
     "text": [
      "\u001b[32m[I 2022-07-17 14:47:35,210]\u001b[0m Trial 16 finished with value: 0.686094391904462 and parameters: {'learning_rate': 0.013986110661574784, 'lambda_l1': 0.0012377960290269724, 'lambda_l2': 2.2084574049931417e-07, 'num_leaves': 73, 'feature_fraction': 0.6468508800568034, 'bagging_fraction': 0.939349084643766, 'bagging_freq': 6, 'min_child_samples': 30}. Best is trial 12 with value: 0.7091052885269497.\u001b[0m\n"
     ]
    },
    {
     "name": "stdout",
     "output_type": "stream",
     "text": [
      "0.686094391904462\n",
      "539.2676026829613\n",
      "Training until validation scores don't improve for 100 rounds\n"
     ]
    },
    {
     "name": "stderr",
     "output_type": "stream",
     "text": [
      "G:\\anaconda3\\envs\\woshidashabi\\lib\\site-packages\\lightgbm\\basic.py:1780: UserWarning: Overriding the parameters from Reference Dataset.\n",
      "  _log_warning('Overriding the parameters from Reference Dataset.')\n",
      "G:\\anaconda3\\envs\\woshidashabi\\lib\\site-packages\\lightgbm\\basic.py:1513: UserWarning: categorical_column in param dict is overridden.\n",
      "  _log_warning(f'{cat_alias} in param dict is overridden.')\n"
     ]
    },
    {
     "name": "stdout",
     "output_type": "stream",
     "text": [
      "Did not meet early stopping. Best iteration is:\n",
      "[1000]\ttraining's l2: 0.378381\tvalid_1's l2: 0.450458\n",
      "Training until validation scores don't improve for 100 rounds\n",
      "Did not meet early stopping. Best iteration is:\n",
      "[1000]\ttraining's l2: 0.341569\tvalid_1's l2: 0.541137\n",
      "Training until validation scores don't improve for 100 rounds\n",
      "Did not meet early stopping. Best iteration is:\n",
      "[1000]\ttraining's l2: 0.367979\tvalid_1's l2: 0.505079\n"
     ]
    },
    {
     "name": "stderr",
     "output_type": "stream",
     "text": [
      "\u001b[32m[I 2022-07-17 14:47:55,990]\u001b[0m Trial 17 finished with value: 0.6955884229928295 and parameters: {'learning_rate': 0.013085436760261592, 'lambda_l1': 0.0002968125105622231, 'lambda_l2': 1.1724221027741579e-05, 'num_leaves': 194, 'feature_fraction': 0.8822775221787249, 'bagging_fraction': 0.7353356924888306, 'bagging_freq': 5, 'min_child_samples': 20}. Best is trial 12 with value: 0.7091052885269497.\u001b[0m\n"
     ]
    },
    {
     "name": "stdout",
     "output_type": "stream",
     "text": [
      "0.6955884229928295\n",
      "545.5118169702034\n",
      "Training until validation scores don't improve for 100 rounds\n"
     ]
    },
    {
     "name": "stderr",
     "output_type": "stream",
     "text": [
      "G:\\anaconda3\\envs\\woshidashabi\\lib\\site-packages\\lightgbm\\basic.py:1780: UserWarning: Overriding the parameters from Reference Dataset.\n",
      "  _log_warning('Overriding the parameters from Reference Dataset.')\n",
      "G:\\anaconda3\\envs\\woshidashabi\\lib\\site-packages\\lightgbm\\basic.py:1513: UserWarning: categorical_column in param dict is overridden.\n",
      "  _log_warning(f'{cat_alias} in param dict is overridden.')\n"
     ]
    },
    {
     "name": "stdout",
     "output_type": "stream",
     "text": [
      "Did not meet early stopping. Best iteration is:\n",
      "[1000]\ttraining's l2: 0.418483\tvalid_1's l2: 0.505365\n",
      "Training until validation scores don't improve for 100 rounds\n",
      "Did not meet early stopping. Best iteration is:\n",
      "[1000]\ttraining's l2: 0.356584\tvalid_1's l2: 0.549558\n",
      "Training until validation scores don't improve for 100 rounds\n",
      "Did not meet early stopping. Best iteration is:\n",
      "[1000]\ttraining's l2: 0.405004\tvalid_1's l2: 0.525023\n"
     ]
    },
    {
     "name": "stderr",
     "output_type": "stream",
     "text": [
      "\u001b[32m[I 2022-07-17 14:48:07,042]\u001b[0m Trial 18 finished with value: 0.6824658133594607 and parameters: {'learning_rate': 0.0385326587542249, 'lambda_l1': 9.010679400100618e-06, 'lambda_l2': 0.0014621921712806242, 'num_leaves': 74, 'feature_fraction': 0.47095871069587214, 'bagging_fraction': 0.8782723034670031, 'bagging_freq': 2, 'min_child_samples': 36}. Best is trial 12 with value: 0.7091052885269497.\u001b[0m\n"
     ]
    },
    {
     "name": "stdout",
     "output_type": "stream",
     "text": [
      "0.6824658133594607\n",
      "554.2815842130536\n",
      "Training until validation scores don't improve for 100 rounds\n"
     ]
    },
    {
     "name": "stderr",
     "output_type": "stream",
     "text": [
      "G:\\anaconda3\\envs\\woshidashabi\\lib\\site-packages\\lightgbm\\basic.py:1780: UserWarning: Overriding the parameters from Reference Dataset.\n",
      "  _log_warning('Overriding the parameters from Reference Dataset.')\n",
      "G:\\anaconda3\\envs\\woshidashabi\\lib\\site-packages\\lightgbm\\basic.py:1513: UserWarning: categorical_column in param dict is overridden.\n",
      "  _log_warning(f'{cat_alias} in param dict is overridden.')\n"
     ]
    },
    {
     "name": "stdout",
     "output_type": "stream",
     "text": [
      "Did not meet early stopping. Best iteration is:\n",
      "[997]\ttraining's l2: 0.804877\tvalid_1's l2: 0.716754\n",
      "Training until validation scores don't improve for 100 rounds\n",
      "Did not meet early stopping. Best iteration is:\n",
      "[1000]\ttraining's l2: 0.73153\tvalid_1's l2: 0.835103\n",
      "Training until validation scores don't improve for 100 rounds\n"
     ]
    },
    {
     "name": "stderr",
     "output_type": "stream",
     "text": [
      "\u001b[32m[I 2022-07-17 14:48:09,039]\u001b[0m Trial 19 finished with value: 0.5043489532750475 and parameters: {'learning_rate': 0.010158441501320116, 'lambda_l1': 1.1123728957494198e-06, 'lambda_l2': 2.590383460430166e-07, 'num_leaves': 4, 'feature_fraction': 0.6809471673010472, 'bagging_fraction': 0.6281434537526351, 'bagging_freq': 6, 'min_child_samples': 70}. Best is trial 12 with value: 0.7091052885269497.\u001b[0m\n"
     ]
    },
    {
     "name": "stdout",
     "output_type": "stream",
     "text": [
      "Did not meet early stopping. Best iteration is:\n",
      "[1000]\ttraining's l2: 0.736184\tvalid_1's l2: 0.798384\n",
      "0.5043489532750475\n",
      "821.138301609463\n",
      "Training until validation scores don't improve for 100 rounds\n"
     ]
    },
    {
     "name": "stderr",
     "output_type": "stream",
     "text": [
      "G:\\anaconda3\\envs\\woshidashabi\\lib\\site-packages\\lightgbm\\basic.py:1780: UserWarning: Overriding the parameters from Reference Dataset.\n",
      "  _log_warning('Overriding the parameters from Reference Dataset.')\n",
      "G:\\anaconda3\\envs\\woshidashabi\\lib\\site-packages\\lightgbm\\basic.py:1513: UserWarning: categorical_column in param dict is overridden.\n",
      "  _log_warning(f'{cat_alias} in param dict is overridden.')\n"
     ]
    },
    {
     "name": "stdout",
     "output_type": "stream",
     "text": [
      "Early stopping, best iteration is:\n",
      "[881]\ttraining's l2: 0.242966\tvalid_1's l2: 0.386223\n",
      "Training until validation scores don't improve for 100 rounds\n",
      "Did not meet early stopping. Best iteration is:\n",
      "[1000]\ttraining's l2: 0.226262\tvalid_1's l2: 0.464656\n",
      "Training until validation scores don't improve for 100 rounds\n",
      "Did not meet early stopping. Best iteration is:\n",
      "[1000]\ttraining's l2: 0.25245\tvalid_1's l2: 0.425294\n"
     ]
    },
    {
     "name": "stderr",
     "output_type": "stream",
     "text": [
      "\u001b[32m[I 2022-07-17 14:48:34,938]\u001b[0m Trial 20 finished with value: 0.7173794771820787 and parameters: {'learning_rate': 0.01567682072812388, 'lambda_l1': 7.541841400751484e-05, 'lambda_l2': 0.26494430386914847, 'num_leaves': 256, 'feature_fraction': 0.5859320919818964, 'bagging_fraction': 0.9923741635910361, 'bagging_freq': 2, 'min_child_samples': 14}. Best is trial 20 with value: 0.7173794771820787.\u001b[0m\n"
     ]
    },
    {
     "name": "stdout",
     "output_type": "stream",
     "text": [
      "0.7173794771820787\n",
      "501.38598724970626\n",
      "Training until validation scores don't improve for 100 rounds\n"
     ]
    },
    {
     "name": "stderr",
     "output_type": "stream",
     "text": [
      "G:\\anaconda3\\envs\\woshidashabi\\lib\\site-packages\\lightgbm\\basic.py:1780: UserWarning: Overriding the parameters from Reference Dataset.\n",
      "  _log_warning('Overriding the parameters from Reference Dataset.')\n",
      "G:\\anaconda3\\envs\\woshidashabi\\lib\\site-packages\\lightgbm\\basic.py:1513: UserWarning: categorical_column in param dict is overridden.\n",
      "  _log_warning(f'{cat_alias} in param dict is overridden.')\n"
     ]
    },
    {
     "name": "stdout",
     "output_type": "stream",
     "text": [
      "Did not meet early stopping. Best iteration is:\n",
      "[1000]\ttraining's l2: 0.24861\tvalid_1's l2: 0.384775\n",
      "Training until validation scores don't improve for 100 rounds\n",
      "Did not meet early stopping. Best iteration is:\n",
      "[1000]\ttraining's l2: 0.232403\tvalid_1's l2: 0.470215\n",
      "Training until validation scores don't improve for 100 rounds\n",
      "Did not meet early stopping. Best iteration is:\n",
      "[1000]\ttraining's l2: 0.265589\tvalid_1's l2: 0.443779\n"
     ]
    },
    {
     "name": "stderr",
     "output_type": "stream",
     "text": [
      "\u001b[32m[I 2022-07-17 14:48:57,201]\u001b[0m Trial 21 finished with value: 0.7132690914120825 and parameters: {'learning_rate': 0.01564882011499771, 'lambda_l1': 6.328123785410008e-05, 'lambda_l2': 0.41605492604093797, 'num_leaves': 249, 'feature_fraction': 0.5026336592113304, 'bagging_fraction': 0.9999336185331988, 'bagging_freq': 2, 'min_child_samples': 15}. Best is trial 20 with value: 0.7173794771820787.\u001b[0m\n"
     ]
    },
    {
     "name": "stdout",
     "output_type": "stream",
     "text": [
      "0.7132690914120825\n",
      "507.1919130051365\n",
      "Training until validation scores don't improve for 100 rounds\n"
     ]
    },
    {
     "name": "stderr",
     "output_type": "stream",
     "text": [
      "G:\\anaconda3\\envs\\woshidashabi\\lib\\site-packages\\lightgbm\\basic.py:1780: UserWarning: Overriding the parameters from Reference Dataset.\n",
      "  _log_warning('Overriding the parameters from Reference Dataset.')\n",
      "G:\\anaconda3\\envs\\woshidashabi\\lib\\site-packages\\lightgbm\\basic.py:1513: UserWarning: categorical_column in param dict is overridden.\n",
      "  _log_warning(f'{cat_alias} in param dict is overridden.')\n"
     ]
    },
    {
     "name": "stdout",
     "output_type": "stream",
     "text": [
      "Did not meet early stopping. Best iteration is:\n",
      "[1000]\ttraining's l2: 0.27319\tvalid_1's l2: 0.385809\n",
      "Training until validation scores don't improve for 100 rounds\n",
      "Did not meet early stopping. Best iteration is:\n",
      "[1000]\ttraining's l2: 0.261171\tvalid_1's l2: 0.479422\n",
      "Training until validation scores don't improve for 100 rounds\n",
      "Did not meet early stopping. Best iteration is:\n",
      "[1000]\ttraining's l2: 0.280784\tvalid_1's l2: 0.433819\n"
     ]
    },
    {
     "name": "stderr",
     "output_type": "stream",
     "text": [
      "\u001b[32m[I 2022-07-17 14:49:18,194]\u001b[0m Trial 22 finished with value: 0.7161602335864199 and parameters: {'learning_rate': 0.016332927409772678, 'lambda_l1': 7.83859320550888e-05, 'lambda_l2': 0.4044375649257335, 'num_leaves': 243, 'feature_fraction': 0.5740406080383197, 'bagging_fraction': 0.9228654156157821, 'bagging_freq': 2, 'min_child_samples': 17}. Best is trial 20 with value: 0.7173794771820787.\u001b[0m\n"
     ]
    },
    {
     "name": "stdout",
     "output_type": "stream",
     "text": [
      "0.7161602335864199\n",
      "501.88119546099705\n",
      "Training until validation scores don't improve for 100 rounds\n"
     ]
    },
    {
     "name": "stderr",
     "output_type": "stream",
     "text": [
      "G:\\anaconda3\\envs\\woshidashabi\\lib\\site-packages\\lightgbm\\basic.py:1780: UserWarning: Overriding the parameters from Reference Dataset.\n",
      "  _log_warning('Overriding the parameters from Reference Dataset.')\n",
      "G:\\anaconda3\\envs\\woshidashabi\\lib\\site-packages\\lightgbm\\basic.py:1513: UserWarning: categorical_column in param dict is overridden.\n",
      "  _log_warning(f'{cat_alias} in param dict is overridden.')\n"
     ]
    },
    {
     "name": "stdout",
     "output_type": "stream",
     "text": [
      "Did not meet early stopping. Best iteration is:\n",
      "[1000]\ttraining's l2: 0.329697\tvalid_1's l2: 0.401594\n",
      "Training until validation scores don't improve for 100 rounds\n",
      "Did not meet early stopping. Best iteration is:\n",
      "[1000]\ttraining's l2: 0.307036\tvalid_1's l2: 0.501554\n",
      "Training until validation scores don't improve for 100 rounds\n",
      "Did not meet early stopping. Best iteration is:\n",
      "[1000]\ttraining's l2: 0.332292\tvalid_1's l2: 0.449419\n"
     ]
    },
    {
     "name": "stderr",
     "output_type": "stream",
     "text": [
      "\u001b[32m[I 2022-07-17 14:49:34,324]\u001b[0m Trial 23 finished with value: 0.6987761475961984 and parameters: {'learning_rate': 0.016766708411616968, 'lambda_l1': 0.0012499668210119758, 'lambda_l2': 0.5735961326954279, 'num_leaves': 254, 'feature_fraction': 0.5791040077492878, 'bagging_fraction': 0.9243392905498897, 'bagging_freq': 2, 'min_child_samples': 25}. Best is trial 20 with value: 0.7173794771820787.\u001b[0m\n"
     ]
    },
    {
     "name": "stdout",
     "output_type": "stream",
     "text": [
      "0.6987761475961984\n",
      "521.1984739466845\n",
      "Training until validation scores don't improve for 100 rounds\n"
     ]
    },
    {
     "name": "stderr",
     "output_type": "stream",
     "text": [
      "G:\\anaconda3\\envs\\woshidashabi\\lib\\site-packages\\lightgbm\\basic.py:1780: UserWarning: Overriding the parameters from Reference Dataset.\n",
      "  _log_warning('Overriding the parameters from Reference Dataset.')\n",
      "G:\\anaconda3\\envs\\woshidashabi\\lib\\site-packages\\lightgbm\\basic.py:1513: UserWarning: categorical_column in param dict is overridden.\n",
      "  _log_warning(f'{cat_alias} in param dict is overridden.')\n"
     ]
    },
    {
     "name": "stdout",
     "output_type": "stream",
     "text": [
      "Did not meet early stopping. Best iteration is:\n",
      "[1000]\ttraining's l2: 0.295093\tvalid_1's l2: 0.400644\n",
      "Training until validation scores don't improve for 100 rounds\n",
      "Did not meet early stopping. Best iteration is:\n",
      "[1000]\ttraining's l2: 0.30054\tvalid_1's l2: 0.51049\n",
      "Training until validation scores don't improve for 100 rounds\n",
      "Did not meet early stopping. Best iteration is:\n",
      "[1000]\ttraining's l2: 0.305382\tvalid_1's l2: 0.450342\n"
     ]
    },
    {
     "name": "stderr",
     "output_type": "stream",
     "text": [
      "\u001b[32m[I 2022-07-17 14:49:55,247]\u001b[0m Trial 24 finished with value: 0.7136704028459618 and parameters: {'learning_rate': 0.023903627071829848, 'lambda_l1': 9.742241337955065e-05, 'lambda_l2': 0.1728340059892772, 'num_leaves': 255, 'feature_fraction': 0.6998916546845791, 'bagging_fraction': 0.8303835619743355, 'bagging_freq': 2, 'min_child_samples': 20}. Best is trial 20 with value: 0.7173794771820787.\u001b[0m\n"
     ]
    },
    {
     "name": "stdout",
     "output_type": "stream",
     "text": [
      "0.7136704028459618\n",
      "511.51480373767095\n",
      "Training until validation scores don't improve for 100 rounds\n"
     ]
    },
    {
     "name": "stderr",
     "output_type": "stream",
     "text": [
      "G:\\anaconda3\\envs\\woshidashabi\\lib\\site-packages\\lightgbm\\basic.py:1780: UserWarning: Overriding the parameters from Reference Dataset.\n",
      "  _log_warning('Overriding the parameters from Reference Dataset.')\n",
      "G:\\anaconda3\\envs\\woshidashabi\\lib\\site-packages\\lightgbm\\basic.py:1513: UserWarning: categorical_column in param dict is overridden.\n",
      "  _log_warning(f'{cat_alias} in param dict is overridden.')\n"
     ]
    },
    {
     "name": "stdout",
     "output_type": "stream",
     "text": [
      "Did not meet early stopping. Best iteration is:\n",
      "[1000]\ttraining's l2: 0.56004\tvalid_1's l2: 0.562488\n",
      "Training until validation scores don't improve for 100 rounds\n",
      "Did not meet early stopping. Best iteration is:\n",
      "[1000]\ttraining's l2: 0.531001\tvalid_1's l2: 0.661329\n",
      "Training until validation scores don't improve for 100 rounds\n",
      "Did not meet early stopping. Best iteration is:\n",
      "[1000]\ttraining's l2: 0.541561\tvalid_1's l2: 0.632947\n"
     ]
    },
    {
     "name": "stderr",
     "output_type": "stream",
     "text": [
      "\u001b[32m[I 2022-07-17 14:50:03,892]\u001b[0m Trial 25 finished with value: 0.6707665041472566 and parameters: {'learning_rate': 0.022261419294966653, 'lambda_l1': 0.010481232700370761, 'lambda_l2': 0.06745605569310249, 'num_leaves': 224, 'feature_fraction': 0.6960831673734363, 'bagging_fraction': 0.8642207604038328, 'bagging_freq': 2, 'min_child_samples': 65}. Best is trial 20 with value: 0.7173794771820787.\u001b[0m\n"
     ]
    },
    {
     "name": "stdout",
     "output_type": "stream",
     "text": [
      "0.6707665041472566\n",
      "581.6829330522062\n",
      "Training until validation scores don't improve for 100 rounds\n"
     ]
    },
    {
     "name": "stderr",
     "output_type": "stream",
     "text": [
      "G:\\anaconda3\\envs\\woshidashabi\\lib\\site-packages\\lightgbm\\basic.py:1780: UserWarning: Overriding the parameters from Reference Dataset.\n",
      "  _log_warning('Overriding the parameters from Reference Dataset.')\n",
      "G:\\anaconda3\\envs\\woshidashabi\\lib\\site-packages\\lightgbm\\basic.py:1513: UserWarning: categorical_column in param dict is overridden.\n",
      "  _log_warning(f'{cat_alias} in param dict is overridden.')\n"
     ]
    },
    {
     "name": "stdout",
     "output_type": "stream",
     "text": [
      "Did not meet early stopping. Best iteration is:\n",
      "[1000]\ttraining's l2: 0.471792\tvalid_1's l2: 0.519696\n",
      "Training until validation scores don't improve for 100 rounds\n",
      "Did not meet early stopping. Best iteration is:\n",
      "[1000]\ttraining's l2: 0.446484\tvalid_1's l2: 0.606222\n",
      "Training until validation scores don't improve for 100 rounds\n",
      "Did not meet early stopping. Best iteration is:\n",
      "[1000]\ttraining's l2: 0.449339\tvalid_1's l2: 0.550301\n"
     ]
    },
    {
     "name": "stderr",
     "output_type": "stream",
     "text": [
      "\u001b[32m[I 2022-07-17 14:50:16,584]\u001b[0m Trial 26 finished with value: 0.6880768691784541 and parameters: {'learning_rate': 0.02087966259609898, 'lambda_l1': 0.0006243956491307351, 'lambda_l2': 0.08979712726332223, 'num_leaves': 219, 'feature_fraction': 0.7285403022116641, 'bagging_fraction': 0.8035188385161925, 'bagging_freq': 2, 'min_child_samples': 39}. Best is trial 20 with value: 0.7173794771820787.\u001b[0m\n"
     ]
    },
    {
     "name": "stdout",
     "output_type": "stream",
     "text": [
      "0.6880768691784541\n",
      "555.4778013914412\n",
      "Training until validation scores don't improve for 100 rounds\n"
     ]
    },
    {
     "name": "stderr",
     "output_type": "stream",
     "text": [
      "G:\\anaconda3\\envs\\woshidashabi\\lib\\site-packages\\lightgbm\\basic.py:1780: UserWarning: Overriding the parameters from Reference Dataset.\n",
      "  _log_warning('Overriding the parameters from Reference Dataset.')\n",
      "G:\\anaconda3\\envs\\woshidashabi\\lib\\site-packages\\lightgbm\\basic.py:1513: UserWarning: categorical_column in param dict is overridden.\n",
      "  _log_warning(f'{cat_alias} in param dict is overridden.')\n"
     ]
    },
    {
     "name": "stdout",
     "output_type": "stream",
     "text": [
      "Did not meet early stopping. Best iteration is:\n",
      "[1000]\ttraining's l2: 0.386194\tvalid_1's l2: 0.438801\n",
      "Training until validation scores don't improve for 100 rounds\n",
      "Did not meet early stopping. Best iteration is:\n",
      "[1000]\ttraining's l2: 0.331661\tvalid_1's l2: 0.536574\n",
      "Training until validation scores don't improve for 100 rounds\n",
      "Did not meet early stopping. Best iteration is:\n",
      "[1000]\ttraining's l2: 0.376607\tvalid_1's l2: 0.465796\n"
     ]
    },
    {
     "name": "stderr",
     "output_type": "stream",
     "text": [
      "\u001b[32m[I 2022-07-17 14:50:30,746]\u001b[0m Trial 27 finished with value: 0.702226573585665 and parameters: {'learning_rate': 0.02644176887114625, 'lambda_l1': 0.0672022425370038, 'lambda_l2': 7.587445945038303, 'num_leaves': 243, 'feature_fraction': 0.5874852884258532, 'bagging_fraction': 0.9095349107237249, 'bagging_freq': 2, 'min_child_samples': 27}. Best is trial 20 with value: 0.7173794771820787.\u001b[0m\n"
     ]
    },
    {
     "name": "stdout",
     "output_type": "stream",
     "text": [
      "0.702226573585665\n",
      "528.1703781307332\n",
      "Training until validation scores don't improve for 100 rounds\n"
     ]
    },
    {
     "name": "stderr",
     "output_type": "stream",
     "text": [
      "G:\\anaconda3\\envs\\woshidashabi\\lib\\site-packages\\lightgbm\\basic.py:1780: UserWarning: Overriding the parameters from Reference Dataset.\n",
      "  _log_warning('Overriding the parameters from Reference Dataset.')\n",
      "G:\\anaconda3\\envs\\woshidashabi\\lib\\site-packages\\lightgbm\\basic.py:1513: UserWarning: categorical_column in param dict is overridden.\n",
      "  _log_warning(f'{cat_alias} in param dict is overridden.')\n"
     ]
    },
    {
     "name": "stdout",
     "output_type": "stream",
     "text": [
      "Did not meet early stopping. Best iteration is:\n",
      "[1000]\ttraining's l2: 0.245738\tvalid_1's l2: 0.387403\n",
      "Training until validation scores don't improve for 100 rounds\n",
      "Did not meet early stopping. Best iteration is:\n",
      "[1000]\ttraining's l2: 0.237782\tvalid_1's l2: 0.488277\n",
      "Training until validation scores don't improve for 100 rounds\n",
      "Did not meet early stopping. Best iteration is:\n",
      "[1000]\ttraining's l2: 0.257943\tvalid_1's l2: 0.437124\n"
     ]
    },
    {
     "name": "stderr",
     "output_type": "stream",
     "text": [
      "\u001b[32m[I 2022-07-17 14:50:56,469]\u001b[0m Trial 28 finished with value: 0.7203557598495577 and parameters: {'learning_rate': 0.035363462252371684, 'lambda_l1': 0.00010044060080092108, 'lambda_l2': 0.053645381854305035, 'num_leaves': 211, 'feature_fraction': 0.6602755748510625, 'bagging_fraction': 0.7276467636536361, 'bagging_freq': 1, 'min_child_samples': 13}. Best is trial 28 with value: 0.7203557598495577.\u001b[0m\n"
     ]
    },
    {
     "name": "stdout",
     "output_type": "stream",
     "text": [
      "0.7203557598495577\n",
      "497.6477438476862\n",
      "Training until validation scores don't improve for 100 rounds\n"
     ]
    },
    {
     "name": "stderr",
     "output_type": "stream",
     "text": [
      "G:\\anaconda3\\envs\\woshidashabi\\lib\\site-packages\\lightgbm\\basic.py:1780: UserWarning: Overriding the parameters from Reference Dataset.\n",
      "  _log_warning('Overriding the parameters from Reference Dataset.')\n",
      "G:\\anaconda3\\envs\\woshidashabi\\lib\\site-packages\\lightgbm\\basic.py:1513: UserWarning: categorical_column in param dict is overridden.\n",
      "  _log_warning(f'{cat_alias} in param dict is overridden.')\n"
     ]
    },
    {
     "name": "stdout",
     "output_type": "stream",
     "text": [
      "Did not meet early stopping. Best iteration is:\n",
      "[1000]\ttraining's l2: 0.2314\tvalid_1's l2: 0.379086\n",
      "Training until validation scores don't improve for 100 rounds\n",
      "Did not meet early stopping. Best iteration is:\n",
      "[1000]\ttraining's l2: 0.221972\tvalid_1's l2: 0.492002\n",
      "Training until validation scores don't improve for 100 rounds\n",
      "Did not meet early stopping. Best iteration is:\n",
      "[1000]\ttraining's l2: 0.246211\tvalid_1's l2: 0.427304\n"
     ]
    },
    {
     "name": "stderr",
     "output_type": "stream",
     "text": [
      "\u001b[32m[I 2022-07-17 14:51:24,692]\u001b[0m Trial 29 finished with value: 0.7227333409360284 and parameters: {'learning_rate': 0.03783382798406419, 'lambda_l1': 2.804005542878712e-07, 'lambda_l2': 0.025763395553545104, 'num_leaves': 211, 'feature_fraction': 0.6566906698209618, 'bagging_fraction': 0.7285137676617988, 'bagging_freq': 1, 'min_child_samples': 12}. Best is trial 29 with value: 0.7227333409360284.\u001b[0m\n"
     ]
    },
    {
     "name": "stdout",
     "output_type": "stream",
     "text": [
      "0.7227333409360284\n",
      "495.77376025513735\n",
      "Training until validation scores don't improve for 100 rounds\n"
     ]
    },
    {
     "name": "stderr",
     "output_type": "stream",
     "text": [
      "G:\\anaconda3\\envs\\woshidashabi\\lib\\site-packages\\lightgbm\\basic.py:1780: UserWarning: Overriding the parameters from Reference Dataset.\n",
      "  _log_warning('Overriding the parameters from Reference Dataset.')\n",
      "G:\\anaconda3\\envs\\woshidashabi\\lib\\site-packages\\lightgbm\\basic.py:1513: UserWarning: categorical_column in param dict is overridden.\n",
      "  _log_warning(f'{cat_alias} in param dict is overridden.')\n"
     ]
    },
    {
     "name": "stdout",
     "output_type": "stream",
     "text": [
      "Did not meet early stopping. Best iteration is:\n",
      "[1000]\ttraining's l2: 0.237665\tvalid_1's l2: 0.383128\n",
      "Training until validation scores don't improve for 100 rounds\n",
      "Did not meet early stopping. Best iteration is:\n",
      "[1000]\ttraining's l2: 0.223\tvalid_1's l2: 0.490583\n",
      "Training until validation scores don't improve for 100 rounds\n",
      "Did not meet early stopping. Best iteration is:\n",
      "[1000]\ttraining's l2: 0.24751\tvalid_1's l2: 0.439707\n"
     ]
    },
    {
     "name": "stderr",
     "output_type": "stream",
     "text": [
      "\u001b[32m[I 2022-07-17 14:51:50,323]\u001b[0m Trial 30 finished with value: 0.7211619534052279 and parameters: {'learning_rate': 0.03449403539055761, 'lambda_l1': 1.1431582314771182e-07, 'lambda_l2': 0.016187870341587196, 'num_leaves': 170, 'feature_fraction': 0.6690300365960029, 'bagging_fraction': 0.7478598042421138, 'bagging_freq': 1, 'min_child_samples': 12}. Best is trial 29 with value: 0.7227333409360284.\u001b[0m\n"
     ]
    },
    {
     "name": "stdout",
     "output_type": "stream",
     "text": [
      "0.7211619534052279\n",
      "497.3628734171366\n",
      "Training until validation scores don't improve for 100 rounds\n"
     ]
    },
    {
     "name": "stderr",
     "output_type": "stream",
     "text": [
      "G:\\anaconda3\\envs\\woshidashabi\\lib\\site-packages\\lightgbm\\basic.py:1780: UserWarning: Overriding the parameters from Reference Dataset.\n",
      "  _log_warning('Overriding the parameters from Reference Dataset.')\n",
      "G:\\anaconda3\\envs\\woshidashabi\\lib\\site-packages\\lightgbm\\basic.py:1513: UserWarning: categorical_column in param dict is overridden.\n",
      "  _log_warning(f'{cat_alias} in param dict is overridden.')\n"
     ]
    },
    {
     "name": "stdout",
     "output_type": "stream",
     "text": [
      "Did not meet early stopping. Best iteration is:\n",
      "[1000]\ttraining's l2: 0.235911\tvalid_1's l2: 0.375587\n",
      "Training until validation scores don't improve for 100 rounds\n",
      "Did not meet early stopping. Best iteration is:\n",
      "[1000]\ttraining's l2: 0.220309\tvalid_1's l2: 0.486308\n",
      "Training until validation scores don't improve for 100 rounds\n",
      "Did not meet early stopping. Best iteration is:\n",
      "[1000]\ttraining's l2: 0.24335\tvalid_1's l2: 0.426264\n"
     ]
    },
    {
     "name": "stderr",
     "output_type": "stream",
     "text": [
      "\u001b[32m[I 2022-07-17 14:52:15,699]\u001b[0m Trial 31 finished with value: 0.7269480013649422 and parameters: {'learning_rate': 0.03729530178159603, 'lambda_l1': 8.952345837392123e-08, 'lambda_l2': 0.021670638574284445, 'num_leaves': 169, 'feature_fraction': 0.6566418692925421, 'bagging_fraction': 0.7319388668413112, 'bagging_freq': 1, 'min_child_samples': 12}. Best is trial 31 with value: 0.7269480013649422.\u001b[0m\n"
     ]
    },
    {
     "name": "stdout",
     "output_type": "stream",
     "text": [
      "0.7269480013649422\n",
      "490.61885423997904\n",
      "Training until validation scores don't improve for 100 rounds\n"
     ]
    },
    {
     "name": "stderr",
     "output_type": "stream",
     "text": [
      "G:\\anaconda3\\envs\\woshidashabi\\lib\\site-packages\\lightgbm\\basic.py:1780: UserWarning: Overriding the parameters from Reference Dataset.\n",
      "  _log_warning('Overriding the parameters from Reference Dataset.')\n",
      "G:\\anaconda3\\envs\\woshidashabi\\lib\\site-packages\\lightgbm\\basic.py:1513: UserWarning: categorical_column in param dict is overridden.\n",
      "  _log_warning(f'{cat_alias} in param dict is overridden.')\n"
     ]
    },
    {
     "name": "stdout",
     "output_type": "stream",
     "text": [
      "Did not meet early stopping. Best iteration is:\n",
      "[1000]\ttraining's l2: 0.234834\tvalid_1's l2: 0.383489\n",
      "Training until validation scores don't improve for 100 rounds\n",
      "Did not meet early stopping. Best iteration is:\n",
      "[1000]\ttraining's l2: 0.223931\tvalid_1's l2: 0.489252\n",
      "Training until validation scores don't improve for 100 rounds\n",
      "Did not meet early stopping. Best iteration is:\n",
      "[1000]\ttraining's l2: 0.24876\tvalid_1's l2: 0.422067\n"
     ]
    },
    {
     "name": "stderr",
     "output_type": "stream",
     "text": [
      "\u001b[32m[I 2022-07-17 14:52:43,110]\u001b[0m Trial 32 finished with value: 0.7236397551065312 and parameters: {'learning_rate': 0.03769680127313292, 'lambda_l1': 2.2710762773208687e-07, 'lambda_l2': 0.021285368305778454, 'num_leaves': 171, 'feature_fraction': 0.6590056326671304, 'bagging_fraction': 0.721900169402745, 'bagging_freq': 1, 'min_child_samples': 12}. Best is trial 31 with value: 0.7269480013649422.\u001b[0m\n"
     ]
    },
    {
     "name": "stdout",
     "output_type": "stream",
     "text": [
      "0.7236397551065312\n",
      "504.2003154801338\n",
      "Training until validation scores don't improve for 100 rounds\n"
     ]
    },
    {
     "name": "stderr",
     "output_type": "stream",
     "text": [
      "G:\\anaconda3\\envs\\woshidashabi\\lib\\site-packages\\lightgbm\\basic.py:1780: UserWarning: Overriding the parameters from Reference Dataset.\n",
      "  _log_warning('Overriding the parameters from Reference Dataset.')\n",
      "G:\\anaconda3\\envs\\woshidashabi\\lib\\site-packages\\lightgbm\\basic.py:1513: UserWarning: categorical_column in param dict is overridden.\n",
      "  _log_warning(f'{cat_alias} in param dict is overridden.')\n"
     ]
    },
    {
     "name": "stdout",
     "output_type": "stream",
     "text": [
      "Did not meet early stopping. Best iteration is:\n",
      "[1000]\ttraining's l2: 0.413024\tvalid_1's l2: 0.497156\n",
      "Training until validation scores don't improve for 100 rounds\n",
      "Did not meet early stopping. Best iteration is:\n",
      "[1000]\ttraining's l2: 0.377054\tvalid_1's l2: 0.591585\n",
      "Training until validation scores don't improve for 100 rounds\n",
      "Did not meet early stopping. Best iteration is:\n",
      "[1000]\ttraining's l2: 0.409648\tvalid_1's l2: 0.534093\n"
     ]
    },
    {
     "name": "stderr",
     "output_type": "stream",
     "text": [
      "\u001b[32m[I 2022-07-17 14:52:57,893]\u001b[0m Trial 33 finished with value: 0.693350005548224 and parameters: {'learning_rate': 0.04442902010669622, 'lambda_l1': 9.370313524419322e-08, 'lambda_l2': 0.003307358864604443, 'num_leaves': 176, 'feature_fraction': 0.7351206874992605, 'bagging_fraction': 0.6933030798034706, 'bagging_freq': 1, 'min_child_samples': 30}. Best is trial 31 with value: 0.7269480013649422.\u001b[0m\n"
     ]
    },
    {
     "name": "stdout",
     "output_type": "stream",
     "text": [
      "0.693350005548224\n",
      "542.7877848373026\n",
      "Training until validation scores don't improve for 100 rounds\n"
     ]
    },
    {
     "name": "stderr",
     "output_type": "stream",
     "text": [
      "G:\\anaconda3\\envs\\woshidashabi\\lib\\site-packages\\lightgbm\\basic.py:1780: UserWarning: Overriding the parameters from Reference Dataset.\n",
      "  _log_warning('Overriding the parameters from Reference Dataset.')\n",
      "G:\\anaconda3\\envs\\woshidashabi\\lib\\site-packages\\lightgbm\\basic.py:1513: UserWarning: categorical_column in param dict is overridden.\n",
      "  _log_warning(f'{cat_alias} in param dict is overridden.')\n"
     ]
    },
    {
     "name": "stdout",
     "output_type": "stream",
     "text": [
      "Did not meet early stopping. Best iteration is:\n",
      "[1000]\ttraining's l2: 0.224697\tvalid_1's l2: 0.390992\n",
      "Training until validation scores don't improve for 100 rounds\n",
      "Did not meet early stopping. Best iteration is:\n",
      "[1000]\ttraining's l2: 0.207486\tvalid_1's l2: 0.483152\n",
      "Training until validation scores don't improve for 100 rounds\n",
      "Did not meet early stopping. Best iteration is:\n",
      "[1000]\ttraining's l2: 0.242131\tvalid_1's l2: 0.429239\n"
     ]
    },
    {
     "name": "stderr",
     "output_type": "stream",
     "text": [
      "\u001b[32m[I 2022-07-17 14:53:20,691]\u001b[0m Trial 34 finished with value: 0.7167937039472198 and parameters: {'learning_rate': 0.041068305397560914, 'lambda_l1': 1.0164867983311106e-07, 'lambda_l2': 0.000813549233081756, 'num_leaves': 136, 'feature_fraction': 0.6380403787035596, 'bagging_fraction': 0.609280714470131, 'bagging_freq': 1, 'min_child_samples': 10}. Best is trial 31 with value: 0.7269480013649422.\u001b[0m\n"
     ]
    },
    {
     "name": "stdout",
     "output_type": "stream",
     "text": [
      "0.7167937039472198\n",
      "508.48971493441485\n",
      "Training until validation scores don't improve for 100 rounds\n"
     ]
    },
    {
     "name": "stderr",
     "output_type": "stream",
     "text": [
      "G:\\anaconda3\\envs\\woshidashabi\\lib\\site-packages\\lightgbm\\basic.py:1780: UserWarning: Overriding the parameters from Reference Dataset.\n",
      "  _log_warning('Overriding the parameters from Reference Dataset.')\n",
      "G:\\anaconda3\\envs\\woshidashabi\\lib\\site-packages\\lightgbm\\basic.py:1513: UserWarning: categorical_column in param dict is overridden.\n",
      "  _log_warning(f'{cat_alias} in param dict is overridden.')\n"
     ]
    },
    {
     "name": "stdout",
     "output_type": "stream",
     "text": [
      "Did not meet early stopping. Best iteration is:\n",
      "[1000]\ttraining's l2: 0.388985\tvalid_1's l2: 0.457377\n",
      "Training until validation scores don't improve for 100 rounds\n",
      "Did not meet early stopping. Best iteration is:\n",
      "[1000]\ttraining's l2: 0.331485\tvalid_1's l2: 0.543926\n",
      "Training until validation scores don't improve for 100 rounds\n",
      "Did not meet early stopping. Best iteration is:\n",
      "[1000]\ttraining's l2: 0.392991\tvalid_1's l2: 0.518425\n"
     ]
    },
    {
     "name": "stderr",
     "output_type": "stream",
     "text": [
      "\u001b[32m[I 2022-07-17 14:53:43,420]\u001b[0m Trial 35 finished with value: 0.7020475778203742 and parameters: {'learning_rate': 0.03329994008320489, 'lambda_l1': 3.080824615245095e-07, 'lambda_l2': 0.00028531468376227076, 'num_leaves': 173, 'feature_fraction': 0.8172986464524152, 'bagging_fraction': 0.7532019719392433, 'bagging_freq': 1, 'min_child_samples': 25}. Best is trial 31 with value: 0.7269480013649422.\u001b[0m\n"
     ]
    },
    {
     "name": "stdout",
     "output_type": "stream",
     "text": [
      "0.7020475778203742\n",
      "522.2042995409657\n",
      "Training until validation scores don't improve for 100 rounds\n"
     ]
    },
    {
     "name": "stderr",
     "output_type": "stream",
     "text": [
      "G:\\anaconda3\\envs\\woshidashabi\\lib\\site-packages\\lightgbm\\basic.py:1780: UserWarning: Overriding the parameters from Reference Dataset.\n",
      "  _log_warning('Overriding the parameters from Reference Dataset.')\n",
      "G:\\anaconda3\\envs\\woshidashabi\\lib\\site-packages\\lightgbm\\basic.py:1513: UserWarning: categorical_column in param dict is overridden.\n",
      "  _log_warning(f'{cat_alias} in param dict is overridden.')\n"
     ]
    },
    {
     "name": "stdout",
     "output_type": "stream",
     "text": [
      "Did not meet early stopping. Best iteration is:\n",
      "[1000]\ttraining's l2: 0.568258\tvalid_1's l2: 0.552786\n",
      "Training until validation scores don't improve for 100 rounds\n",
      "Did not meet early stopping. Best iteration is:\n",
      "[1000]\ttraining's l2: 0.517644\tvalid_1's l2: 0.66725\n",
      "Training until validation scores don't improve for 100 rounds\n",
      "Did not meet early stopping. Best iteration is:\n",
      "[1000]\ttraining's l2: 0.560767\tvalid_1's l2: 0.659684\n",
      "0.6617818516211078\n"
     ]
    },
    {
     "name": "stderr",
     "output_type": "stream",
     "text": [
      "\u001b[32m[I 2022-07-17 14:53:52,337]\u001b[0m Trial 36 finished with value: 0.6617818516211078 and parameters: {'learning_rate': 0.05811021054036131, 'lambda_l1': 3.144432140969138e-08, 'lambda_l2': 0.02089663086807958, 'num_leaves': 166, 'feature_fraction': 0.6656169295278089, 'bagging_fraction': 0.5748981011192777, 'bagging_freq': 1, 'min_child_samples': 59}. Best is trial 31 with value: 0.7269480013649422.\u001b[0m\n"
     ]
    },
    {
     "name": "stdout",
     "output_type": "stream",
     "text": [
      "591.0618826749252\n",
      "Training until validation scores don't improve for 100 rounds\n"
     ]
    },
    {
     "name": "stderr",
     "output_type": "stream",
     "text": [
      "G:\\anaconda3\\envs\\woshidashabi\\lib\\site-packages\\lightgbm\\basic.py:1780: UserWarning: Overriding the parameters from Reference Dataset.\n",
      "  _log_warning('Overriding the parameters from Reference Dataset.')\n",
      "G:\\anaconda3\\envs\\woshidashabi\\lib\\site-packages\\lightgbm\\basic.py:1513: UserWarning: categorical_column in param dict is overridden.\n",
      "  _log_warning(f'{cat_alias} in param dict is overridden.')\n"
     ]
    },
    {
     "name": "stdout",
     "output_type": "stream",
     "text": [
      "Did not meet early stopping. Best iteration is:\n",
      "[1000]\ttraining's l2: 0.256137\tvalid_1's l2: 0.397057\n",
      "Training until validation scores don't improve for 100 rounds\n",
      "Did not meet early stopping. Best iteration is:\n",
      "[1000]\ttraining's l2: 0.240146\tvalid_1's l2: 0.492852\n",
      "Training until validation scores don't improve for 100 rounds\n",
      "Did not meet early stopping. Best iteration is:\n",
      "[1000]\ttraining's l2: 0.26614\tvalid_1's l2: 0.434286\n"
     ]
    },
    {
     "name": "stderr",
     "output_type": "stream",
     "text": [
      "\u001b[32m[I 2022-07-17 14:54:19,667]\u001b[0m Trial 37 finished with value: 0.7119375020090638 and parameters: {'learning_rate': 0.030013411515822194, 'lambda_l1': 4.327819495242321e-07, 'lambda_l2': 0.017052810790412314, 'num_leaves': 139, 'feature_fraction': 0.7328265557206951, 'bagging_fraction': 0.6668058917015655, 'bagging_freq': 1, 'min_child_samples': 12}. Best is trial 31 with value: 0.7269480013649422.\u001b[0m\n"
     ]
    },
    {
     "name": "stdout",
     "output_type": "stream",
     "text": [
      "0.7119375020090638\n",
      "511.3412648492133\n",
      "Training until validation scores don't improve for 100 rounds\n"
     ]
    },
    {
     "name": "stderr",
     "output_type": "stream",
     "text": [
      "G:\\anaconda3\\envs\\woshidashabi\\lib\\site-packages\\lightgbm\\basic.py:1780: UserWarning: Overriding the parameters from Reference Dataset.\n",
      "  _log_warning('Overriding the parameters from Reference Dataset.')\n",
      "G:\\anaconda3\\envs\\woshidashabi\\lib\\site-packages\\lightgbm\\basic.py:1513: UserWarning: categorical_column in param dict is overridden.\n",
      "  _log_warning(f'{cat_alias} in param dict is overridden.')\n"
     ]
    },
    {
     "name": "stdout",
     "output_type": "stream",
     "text": [
      "Did not meet early stopping. Best iteration is:\n",
      "[1000]\ttraining's l2: 0.448255\tvalid_1's l2: 0.50067\n",
      "Training until validation scores don't improve for 100 rounds\n",
      "Did not meet early stopping. Best iteration is:\n",
      "[1000]\ttraining's l2: 0.410354\tvalid_1's l2: 0.592839\n",
      "Training until validation scores don't improve for 100 rounds\n",
      "Did not meet early stopping. Best iteration is:\n",
      "[1000]\ttraining's l2: 0.435137\tvalid_1's l2: 0.541591\n"
     ]
    },
    {
     "name": "stderr",
     "output_type": "stream",
     "text": [
      "\u001b[32m[I 2022-07-17 14:54:31,320]\u001b[0m Trial 38 finished with value: 0.685519596174345 and parameters: {'learning_rate': 0.04625893664393445, 'lambda_l1': 3.427153671221821e-08, 'lambda_l2': 0.0049732282093821875, 'num_leaves': 183, 'feature_fraction': 0.6134602550991847, 'bagging_fraction': 0.6991594227505068, 'bagging_freq': 1, 'min_child_samples': 36}. Best is trial 31 with value: 0.7269480013649422.\u001b[0m\n"
     ]
    },
    {
     "name": "stdout",
     "output_type": "stream",
     "text": [
      "0.685519596174345\n",
      "555.5706253730051\n",
      "Training until validation scores don't improve for 100 rounds\n"
     ]
    },
    {
     "name": "stderr",
     "output_type": "stream",
     "text": [
      "G:\\anaconda3\\envs\\woshidashabi\\lib\\site-packages\\lightgbm\\basic.py:1780: UserWarning: Overriding the parameters from Reference Dataset.\n",
      "  _log_warning('Overriding the parameters from Reference Dataset.')\n",
      "G:\\anaconda3\\envs\\woshidashabi\\lib\\site-packages\\lightgbm\\basic.py:1513: UserWarning: categorical_column in param dict is overridden.\n",
      "  _log_warning(f'{cat_alias} in param dict is overridden.')\n"
     ]
    },
    {
     "name": "stdout",
     "output_type": "stream",
     "text": [
      "Did not meet early stopping. Best iteration is:\n",
      "[1000]\ttraining's l2: 0.299974\tvalid_1's l2: 0.400724\n",
      "Training until validation scores don't improve for 100 rounds\n",
      "Did not meet early stopping. Best iteration is:\n",
      "[1000]\ttraining's l2: 0.278429\tvalid_1's l2: 0.512677\n",
      "Training until validation scores don't improve for 100 rounds\n",
      "Did not meet early stopping. Best iteration is:\n",
      "[1000]\ttraining's l2: 0.296624\tvalid_1's l2: 0.463282\n"
     ]
    },
    {
     "name": "stderr",
     "output_type": "stream",
     "text": [
      "\u001b[32m[I 2022-07-17 14:54:52,856]\u001b[0m Trial 39 finished with value: 0.7134702423664903 and parameters: {'learning_rate': 0.06765161620318373, 'lambda_l1': 1.7686389251502312e-08, 'lambda_l2': 2.018307433828517, 'num_leaves': 118, 'feature_fraction': 0.7565910914788349, 'bagging_fraction': 0.7810231010797991, 'bagging_freq': 1, 'min_child_samples': 19}. Best is trial 31 with value: 0.7269480013649422.\u001b[0m\n"
     ]
    },
    {
     "name": "stdout",
     "output_type": "stream",
     "text": [
      "0.7134702423664903\n",
      "517.2829793722934\n",
      "Training until validation scores don't improve for 100 rounds\n"
     ]
    },
    {
     "name": "stderr",
     "output_type": "stream",
     "text": [
      "G:\\anaconda3\\envs\\woshidashabi\\lib\\site-packages\\lightgbm\\basic.py:1780: UserWarning: Overriding the parameters from Reference Dataset.\n",
      "  _log_warning('Overriding the parameters from Reference Dataset.')\n",
      "G:\\anaconda3\\envs\\woshidashabi\\lib\\site-packages\\lightgbm\\basic.py:1513: UserWarning: categorical_column in param dict is overridden.\n",
      "  _log_warning(f'{cat_alias} in param dict is overridden.')\n"
     ]
    },
    {
     "name": "stdout",
     "output_type": "stream",
     "text": [
      "Did not meet early stopping. Best iteration is:\n",
      "[1000]\ttraining's l2: 0.618599\tvalid_1's l2: 0.58987\n",
      "Training until validation scores don't improve for 100 rounds\n",
      "Did not meet early stopping. Best iteration is:\n",
      "[1000]\ttraining's l2: 0.563121\tvalid_1's l2: 0.683208\n",
      "Training until validation scores don't improve for 100 rounds\n"
     ]
    },
    {
     "name": "stderr",
     "output_type": "stream",
     "text": [
      "\u001b[32m[I 2022-07-17 14:55:00,675]\u001b[0m Trial 40 finished with value: 0.6520387158124732 and parameters: {'learning_rate': 0.03658226480919968, 'lambda_l1': 2.0562371640529755e-07, 'lambda_l2': 0.0013297757442519889, 'num_leaves': 201, 'feature_fraction': 0.7898016374576928, 'bagging_fraction': 0.7281707366990774, 'bagging_freq': 4, 'min_child_samples': 84}. Best is trial 31 with value: 0.7269480013649422.\u001b[0m\n"
     ]
    },
    {
     "name": "stdout",
     "output_type": "stream",
     "text": [
      "Did not meet early stopping. Best iteration is:\n",
      "[1000]\ttraining's l2: 0.601313\tvalid_1's l2: 0.678622\n",
      "0.6520387158124732\n",
      "607.6238637576209\n"
     ]
    },
    {
     "name": "stderr",
     "output_type": "stream",
     "text": [
      "G:\\anaconda3\\envs\\woshidashabi\\lib\\site-packages\\lightgbm\\basic.py:1780: UserWarning: Overriding the parameters from Reference Dataset.\n",
      "  _log_warning('Overriding the parameters from Reference Dataset.')\n",
      "G:\\anaconda3\\envs\\woshidashabi\\lib\\site-packages\\lightgbm\\basic.py:1513: UserWarning: categorical_column in param dict is overridden.\n",
      "  _log_warning(f'{cat_alias} in param dict is overridden.')\n"
     ]
    },
    {
     "name": "stdout",
     "output_type": "stream",
     "text": [
      "Training until validation scores don't improve for 100 rounds\n",
      "Did not meet early stopping. Best iteration is:\n",
      "[1000]\ttraining's l2: 0.225363\tvalid_1's l2: 0.376782\n",
      "Training until validation scores don't improve for 100 rounds\n",
      "Did not meet early stopping. Best iteration is:\n",
      "[1000]\ttraining's l2: 0.209613\tvalid_1's l2: 0.487538\n",
      "Training until validation scores don't improve for 100 rounds\n",
      "Did not meet early stopping. Best iteration is:\n",
      "[1000]\ttraining's l2: 0.237748\tvalid_1's l2: 0.437248\n"
     ]
    },
    {
     "name": "stderr",
     "output_type": "stream",
     "text": [
      "\u001b[32m[I 2022-07-17 14:55:32,506]\u001b[0m Trial 41 finished with value: 0.7201998062035379 and parameters: {'learning_rate': 0.03311210700611014, 'lambda_l1': 1.2963198579705953e-06, 'lambda_l2': 0.03261719784765596, 'num_leaves': 225, 'feature_fraction': 0.6668853462216331, 'bagging_fraction': 0.7233374421644969, 'bagging_freq': 1, 'min_child_samples': 11}. Best is trial 31 with value: 0.7269480013649422.\u001b[0m\n"
     ]
    },
    {
     "name": "stdout",
     "output_type": "stream",
     "text": [
      "0.7201998062035379\n",
      "500.2278968603832\n",
      "Training until validation scores don't improve for 100 rounds\n"
     ]
    },
    {
     "name": "stderr",
     "output_type": "stream",
     "text": [
      "G:\\anaconda3\\envs\\woshidashabi\\lib\\site-packages\\lightgbm\\basic.py:1780: UserWarning: Overriding the parameters from Reference Dataset.\n",
      "  _log_warning('Overriding the parameters from Reference Dataset.')\n",
      "G:\\anaconda3\\envs\\woshidashabi\\lib\\site-packages\\lightgbm\\basic.py:1513: UserWarning: categorical_column in param dict is overridden.\n",
      "  _log_warning(f'{cat_alias} in param dict is overridden.')\n"
     ]
    },
    {
     "name": "stdout",
     "output_type": "stream",
     "text": [
      "Did not meet early stopping. Best iteration is:\n",
      "[1000]\ttraining's l2: 0.241085\tvalid_1's l2: 0.392574\n",
      "Training until validation scores don't improve for 100 rounds\n",
      "Did not meet early stopping. Best iteration is:\n",
      "[1000]\ttraining's l2: 0.2331\tvalid_1's l2: 0.472583\n",
      "Training until validation scores don't improve for 100 rounds\n",
      "Did not meet early stopping. Best iteration is:\n",
      "[1000]\ttraining's l2: 0.257386\tvalid_1's l2: 0.435431\n"
     ]
    },
    {
     "name": "stderr",
     "output_type": "stream",
     "text": [
      "\u001b[32m[I 2022-07-17 14:55:59,381]\u001b[0m Trial 42 finished with value: 0.7149859131543111 and parameters: {'learning_rate': 0.03615022186272043, 'lambda_l1': 4.3996814053273714e-08, 'lambda_l2': 0.059518781696041606, 'num_leaves': 182, 'feature_fraction': 0.64696658847195, 'bagging_fraction': 0.8080494262117324, 'bagging_freq': 1, 'min_child_samples': 14}. Best is trial 31 with value: 0.7269480013649422.\u001b[0m\n"
     ]
    },
    {
     "name": "stdout",
     "output_type": "stream",
     "text": [
      "0.7149859131543111\n",
      "507.47674295479067\n",
      "Training until validation scores don't improve for 100 rounds\n"
     ]
    },
    {
     "name": "stderr",
     "output_type": "stream",
     "text": [
      "G:\\anaconda3\\envs\\woshidashabi\\lib\\site-packages\\lightgbm\\basic.py:1780: UserWarning: Overriding the parameters from Reference Dataset.\n",
      "  _log_warning('Overriding the parameters from Reference Dataset.')\n",
      "G:\\anaconda3\\envs\\woshidashabi\\lib\\site-packages\\lightgbm\\basic.py:1513: UserWarning: categorical_column in param dict is overridden.\n",
      "  _log_warning(f'{cat_alias} in param dict is overridden.')\n"
     ]
    },
    {
     "name": "stdout",
     "output_type": "stream",
     "text": [
      "Did not meet early stopping. Best iteration is:\n",
      "[1000]\ttraining's l2: 0.326616\tvalid_1's l2: 0.406237\n",
      "Training until validation scores don't improve for 100 rounds\n",
      "Did not meet early stopping. Best iteration is:\n",
      "[1000]\ttraining's l2: 0.288071\tvalid_1's l2: 0.508707\n",
      "Training until validation scores don't improve for 100 rounds\n"
     ]
    }
   ],
   "source": [
    "def objective(trial):\n",
    "\n",
    "    # 2. Suggest values of the hyperparameters using a trial object.\n",
    "    params22 = {\n",
    "        'metric': 'mse',\n",
    "        #'learning_rate': 0.05,\n",
    "        'objective':'regression_l1',\n",
    "        'verbosity': -1,\n",
    "        'boosting_type': 'gbdt',\n",
    "        'learning_rate': trial.suggest_float('learning_rate', 1e-2, 1e-1, log=True),\n",
    "        'lambda_l1': trial.suggest_float('lambda_l1', 1e-8, 10.0, log=True),\n",
    "        'lambda_l2': trial.suggest_float('lambda_l2', 1e-8, 10.0, log=True),\n",
    "        'num_leaves': trial.suggest_int('num_leaves', 2, 256),\n",
    "        'feature_fraction': trial.suggest_float('feature_fraction', 0.4, 1.0),\n",
    "        'bagging_fraction': trial.suggest_float('bagging_fraction', 0.4, 1.0),\n",
    "        'bagging_freq': trial.suggest_int('bagging_freq', 1, 7),\n",
    "        'min_child_samples': trial.suggest_int('min_child_samples', 5, 100),\n",
    "    }\n",
    "\n",
    "    kkjb = trymodel(df_train,params22)\n",
    "    \n",
    "    return kkjb\n",
    "\n",
    "# 3. Create a study object and optimize the objective function.\n",
    "study = optuna.create_study(direction='maximize')\n",
    "study.optimize(objective, n_trials=100)"
   ]
  }
 ],
 "metadata": {
  "kernelspec": {
   "display_name": "Python 3 (ipykernel)",
   "language": "python",
   "name": "python3"
  },
  "language_info": {
   "codemirror_mode": {
    "name": "ipython",
    "version": 3
   },
   "file_extension": ".py",
   "mimetype": "text/x-python",
   "name": "python",
   "nbconvert_exporter": "python",
   "pygments_lexer": "ipython3",
   "version": "3.7.12"
  }
 },
 "nbformat": 4,
 "nbformat_minor": 5
}
